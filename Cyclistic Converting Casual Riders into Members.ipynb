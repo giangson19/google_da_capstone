{
 "cells": [
  {
   "cell_type": "markdown",
   "id": "40cbe57e",
   "metadata": {},
   "source": [
    "<h1>CYCLISTIC: CONVERTING CASUAL RIDERS INTO MEMBERS</h1>\n",
    "\n",
    "Author: [Giang Son Nguyen](https://www.linkedin.com/in/nguyengiangson/). <br>\n",
    "Date: 11.08.2021 <br>\n",
    "Visit my portfolio at: [giangson.tech](giangson.tech)"
   ]
  },
  {
   "cell_type": "markdown",
   "id": "3863412c",
   "metadata": {
    "toc": true
   },
   "source": [
    "<h1>Table of Contents<span class=\"tocSkip\"></span></h1>\n",
    "<div class=\"toc\"><ul class=\"toc-item\"><li><span><a href=\"#Step-1:-Ask\" data-toc-modified-id=\"Step-1:-Ask-1\">Step 1: Ask</a></span></li><li><span><a href=\"#Step-2:-Prepare\" data-toc-modified-id=\"Step-2:-Prepare-2\">Step 2: Prepare</a></span><ul class=\"toc-item\"><li><ul class=\"toc-item\"><li><span><a href=\"#1.-Data-location-and-organization\" data-toc-modified-id=\"1.-Data-location-and-organization-2.0.1\">1. Data location and organization</a></span></li><li><span><a href=\"#2.-Data-collection\" data-toc-modified-id=\"2.-Data-collection-2.0.2\">2. Data collection</a></span></li><li><span><a href=\"#3.-Data-inspection\" data-toc-modified-id=\"3.-Data-inspection-2.0.3\">3. Data inspection</a></span></li></ul></li></ul></li><li><span><a href=\"#Step-3:-Process\" data-toc-modified-id=\"Step-3:-Process-3\">Step 3: Process</a></span><ul class=\"toc-item\"><li><ul class=\"toc-item\"><li><span><a href=\"#1.-Clean-data\" data-toc-modified-id=\"1.-Clean-data-3.0.1\">1. Clean data</a></span></li><li><span><a href=\"#2.-Create-new-columns\" data-toc-modified-id=\"2.-Create-new-columns-3.0.2\">2. Create new columns</a></span></li></ul></li></ul></li><li><span><a href=\"#Step-4:-Analyze\" data-toc-modified-id=\"Step-4:-Analyze-4\">Step 4: Analyze</a></span><ul class=\"toc-item\"><li><ul class=\"toc-item\"><li><span><a href=\"#Key-findings\" data-toc-modified-id=\"Key-findings-4.0.1\">Key findings</a></span></li></ul></li></ul></li><li><span><a href=\"#Step-5:-Share\" data-toc-modified-id=\"Step-5:-Share-5\">Step 5: Share</a></span></li><li><span><a href=\"#Step-6:-Act\" data-toc-modified-id=\"Step-6:-Act-6\">Step 6: Act</a></span><ul class=\"toc-item\"><li><ul class=\"toc-item\"><li><span><a href=\"#Top-3-Recommendations:\" data-toc-modified-id=\"Top-3-Recommendations:-6.0.1\">Top 3 Recommendations:</a></span></li></ul></li></ul></li></ul></div>"
   ]
  },
  {
   "cell_type": "markdown",
   "id": "1c8170c7",
   "metadata": {},
   "source": [
    "# INTRODUCTION"
   ]
  },
  {
   "cell_type": "markdown",
   "id": "490b67ba",
   "metadata": {},
   "source": [
    "This case study is part of the [***Google Data Analytics Capstone Project***](https://www.coursera.org/learn/google-data-analytics-capstone/) on Coursera.\n",
    "<br> The data used in this project is the public [Divvy trip history dataset](https://www.divvybikes.com/system-data).\n",
    "\n",
    "In this project, I will be acting as a junior data analyst for a fictional company *Cyclistic*. My task is to perform [6 steps in the data analysis process](https://www.coursera.org/lecture/foundations-data/six-steps-of-data-analysis-JjA1f) and produce a **report** with the corresponding deliverables:\n",
    "1. **Ask**: A clear statement of the business task\n",
    "2. **Prepare**: A description of all data sources used\n",
    "3. **Process**: Documentation of any cleaning or manipulation of data\n",
    "4. **Analyze**: A summary of my analysis\n",
    "5. **Share**: Supporting visualizations and key findings\n",
    "6. **Act**: Top three recommendations based on my analysis\n",
    "\n",
    "The tools I will use for this project are: \n",
    "- R programming language\n",
    "- Tableau"
   ]
  },
  {
   "cell_type": "markdown",
   "id": "0ac63553",
   "metadata": {},
   "source": [
    "# REPORT"
   ]
  },
  {
   "cell_type": "code",
   "execution_count": 1,
   "id": "8feda2b2",
   "metadata": {},
   "outputs": [
    {
     "name": "stderr",
     "output_type": "stream",
     "text": [
      "Warning message:\n",
      "\"package 'ggthemes' was built under R version 3.6.3\""
     ]
    }
   ],
   "source": [
    "# Import libraries\n",
    "shhh <- suppressPackageStartupMessages #do this to hide (\"supress\") the warnings when loading libraries\n",
    "start_time <- Sys.time() #measure notebook runtime\n",
    "\n",
    "shhh(library(rvest)) #for webscraping\n",
    "shhh(library(tidyverse)) #for working with data\n",
    "shhh(library(lubridate)) #for working with datetime data\n",
    "shhh(library(data.table)) #for faster aggregating\n",
    "library(ggthemes) #for custom ggplot themes"
   ]
  },
  {
   "cell_type": "markdown",
   "id": "cb872fd8",
   "metadata": {},
   "source": [
    "## Step 1: Ask"
   ]
  },
  {
   "cell_type": "markdown",
   "id": "176db8f1",
   "metadata": {},
   "source": [
    "**Briefing** <br>\n",
    "*Cyclistic* is a company based in Chicago, US. It provides bide-sharing service with 5800 bikes and 600 docking stations. *Cyclistic* categorizes its customers into 2 types: \n",
    "- annual members (people wwho purchase annual memberships)\n",
    "- casual riders (people who buy single-ride or full-day passes).\n",
    "\n",
    "The finance team concludes that annual members bring significantly larger profits than casual riders. To maximize the number of annual members, the marketing team wants to launch a campaign that covert casual customers into members.\n",
    "\n",
    "To help achieve that goal, I - the data analyst - need to **analyze the trip data** from the past year, generate usefull insights, and provide my suggestions for further actions.\n",
    "\n",
    "**Business objetive** <br>\n",
    ">Derive a marketing program to **convert** *Cyclistic*'s casual riders into annual members to increase profits.\n",
    "\n",
    "**My task** <br>\n",
    "Analyze the data and provide an answer to the question:\n",
    "> How do annual members and casual riders use Cyclistic bikes differently?\n"
   ]
  },
  {
   "cell_type": "markdown",
   "id": "007548b7",
   "metadata": {},
   "source": [
    "## Step 2: Prepare"
   ]
  },
  {
   "cell_type": "markdown",
   "id": "cc5a4d24",
   "metadata": {},
   "source": [
    "#### 1. Data location and organization\n",
    "**Cyclistic** stores all their trip data in a single folder, which can be accessed at this URL: https://divvy-tripdata.s3.amazonaws.com/index.html. The data is collected at a ride-level: each row contains information (detailed below) about one single trip.\n",
    "\n",
    "The recent data is organized into **monthly** files (each file contains trip data for a single month). All of these files contain 13 columns, the names of which are consistent accross all files. A description of these columns are presented in the next section.\n",
    "\n",
    "Previously (before April 2020), *Cyclistic* used to sort its data differently (quartery/ annually) and used different attributes. I won't go into details since this information is mostly irrelevant.\n",
    "\n",
    "For the purpose of this case study, I'll perform analysis on the data from the lastest 12 months at the time of writing (June 2020 to May 2021)."
   ]
  },
  {
   "cell_type": "markdown",
   "id": "503810d5",
   "metadata": {},
   "source": [
    "#### 2. Data collection\n",
    "I use the below script to scrape the data from its source and save it onto my computer. Alternatively, this task could be done manually without taking too much time."
   ]
  },
  {
   "cell_type": "markdown",
   "id": "ef8ab4b9",
   "metadata": {},
   "source": [
    "###### a. Download monthly data"
   ]
  },
  {
   "cell_type": "markdown",
   "id": "87dc5141",
   "metadata": {},
   "source": [
    "```r\n",
    "# Scrape the source website for links to the last 12 months of data.\n",
    "root <- \"https://divvy-tripdata.s3.amazonaws.com/\"\n",
    "index <- read_html(root)\n",
    "\n",
    "# Get the zip file names: elements with the tag <key> and the word tripdata\n",
    "zip_names <- index  %>% \n",
    "    html_nodes(\"key\")  %>% \n",
    "    html_text()\n",
    "    list()\n",
    "zip_names <- grep(\"tripdata\", zip_names, value=TRUE)\n",
    "\n",
    "# Only get 12 months of data\n",
    "zip_names <- tail(zip_names, 12)\n",
    "\n",
    "\n",
    "#Load the data directly from the source, then save as csv files\n",
    "for (zip_name in zip_names){\n",
    "    # assign the url to the zip file\n",
    "    url <- paste(root, zip_name,sep=\"\")\n",
    "    # assign the name of the actual csv file\n",
    "    csv_name <- paste(substring(zip_name,1,nchar(zip_name)-4), \".csv\",sep=\"\")\n",
    "    \n",
    "    # load the data from the csv inside the zip file\n",
    "    temp <- tempfile()\n",
    "    download.file(url, temp)\n",
    "    montly_data <- read_csv(unz(temp, csv_name), \n",
    "                     col_types = cols(end_station_id  = col_character(), \n",
    "                                      start_station_id  = col_character())) #have to specify column types\n",
    "    \n",
    "    # save the monthly data as csv\n",
    "    write_csv(montly_data, paste('data',csv_name,sep=\"/\"))\n",
    "}\n",
    "\n",
    "print(\"Finished downloading all files.\")\n",
    "```"
   ]
  },
  {
   "cell_type": "markdown",
   "id": "4ea62509",
   "metadata": {},
   "source": [
    "###### b. Combine 12 files into a year view"
   ]
  },
  {
   "cell_type": "markdown",
   "id": "44069b46",
   "metadata": {},
   "source": [
    "```r\n",
    "# Define a function to read csv files later\n",
    "# Have to do this because I need to specify the column types while reading to avoid errors \n",
    "read_files <- function(file){\n",
    "    read_csv(file, col_types = cols(end_station_id  = col_character(), \n",
    "                                      start_station_id  = col_character()))\n",
    "}\n",
    "\n",
    "# Get the directories to the csv files\n",
    "files <- list.files(path = \"data/\", pattern = \".*csv\")\n",
    "# Read all the files and combine them into one dataframe\n",
    "df_list <- lapply(paste(\"data/\",files,sep=\"\"), read_files)\n",
    "all_data <- bind_rows(df_list)\n",
    "\n",
    "# Save a copy of the 12-month data\n",
    "write_csv(all_data, 'all-tripdata.csv')\n",
    "```"
   ]
  },
  {
   "cell_type": "markdown",
   "id": "b84b7ee7",
   "metadata": {},
   "source": [
    "#### 3. Data inspection\n",
    "\n",
    "***About the dataset***<br>\n",
    "A quick glance at the dataset shows that this dataset consists of:\n",
    "1. 4073561 entries (4073561 trips)\n",
    "2. 13 attributes\n",
    "\n",
    "<details>\n",
    "    <summary> ▶ &nbsp; Click to see the description of attributes </summary>\n",
    "       1. `ride_id`: ID attached to each trip taken, <br>\n",
    "       2. `rideable_type`: the type of the bike rented in that trip <br>\n",
    "       3. `started_at`: start time of the ride <br>\n",
    "       4. `ended_at`: end time of the ride <br>\n",
    "       5. `start_station_name`: name of the station where the trip originated <br>\n",
    "       6. `start_station_id`: unique ID of the station where the trip originated <br>\n",
    "       7. `end_station_name`:  name of the station where the trip terminated <br>\n",
    "       8. `end_station_id`: unique ID of the station where the trip terminated <br>\n",
    "       9. `start_lat`: latitude of the start station <br>\n",
    "       10. `start_lng`: longitude of the start station <br>\n",
    "       11. `end_lat`: latitude of the end station <br>\n",
    "       12. `end_lng`: longitude of the end station <br>\n",
    "       13. `member_casual`: the type of membership of the rider (either casual rider or annual member).<br>\n",
    "    \n",
    "</details>\n",
    "\n",
    "***Checking for issues***<br>\n",
    "1. Issues regarding *licensing, privacy, security,* and *accessibility* are taken care of by the **Cyclistic** team and not by myself.\n",
    "\n",
    "\n",
    "2. As for the data's *integrity*, I have been informed that the dataset is clean and ready to use, save for one problem. I have performed some preliminary checks myself and conluded that there is no other major issue.\n",
    "    - **Check-in entries**: Some entries were not trips taken by riders, but were regular check-ins by **Cylistic**. <br>\n",
    "        These entries has negative ride duration (`started_at` > `ended_at`) and will interfere with the analysis. They must be removed.\n",
    "        \n",
    "    "
   ]
  },
  {
   "cell_type": "code",
   "execution_count": 2,
   "id": "b288efd7",
   "metadata": {},
   "outputs": [],
   "source": [
    "# Load all data\n",
    "all_data <- read_csv('all-tripdata.csv',\n",
    "                     col_types = cols(end_station_id  = col_character(), \n",
    "                                      start_station_id  = col_character()))"
   ]
  },
  {
   "cell_type": "code",
   "execution_count": 3,
   "id": "8390abd3",
   "metadata": {
    "scrolled": false
   },
   "outputs": [
    {
     "name": "stdout",
     "output_type": "stream",
     "text": [
      "[1] \"This data has 4073561 rows and 13 columns\"\n",
      "[1] \"First 6 rows:\"\n"
     ]
    },
    {
     "data": {
      "text/html": [
       "<table>\n",
       "<thead><tr><th scope=col>ride_id</th><th scope=col>rideable_type</th><th scope=col>started_at</th><th scope=col>ended_at</th><th scope=col>start_station_name</th><th scope=col>start_station_id</th><th scope=col>end_station_name</th><th scope=col>end_station_id</th><th scope=col>start_lat</th><th scope=col>start_lng</th><th scope=col>end_lat</th><th scope=col>end_lng</th><th scope=col>member_casual</th></tr></thead>\n",
       "<tbody>\n",
       "\t<tr><td>8CD5DE2C2B6C4CFC                                                       </td><td>docked_bike                                                            </td><td>2020-06-13 23:24:48                                                    </td><td>2020-06-13 23:36:55                                                    </td><td><span style=white-space:pre-wrap>Wilton Ave &amp; Belmont Ave   </span></td><td>117                                                                    </td><td>Damen Ave &amp; Clybourn Ave                                           </td><td>163                                                                    </td><td>41.94018                                                               </td><td>-87.65304                                                              </td><td>41.93193                                                               </td><td>-87.67786                                                              </td><td>casual                                                                 </td></tr>\n",
       "\t<tr><td>9A191EB2C751D85D                                                       </td><td>docked_bike                                                            </td><td>2020-06-26 07:26:10                                                    </td><td>2020-06-26 07:31:58                                                    </td><td><span style=white-space:pre-wrap>Federal St &amp; Polk St       </span></td><td>41                                                                     </td><td><span style=white-space:pre-wrap>Daley Center Plaza      </span>       </td><td>81                                                                     </td><td>41.87208                                                               </td><td>-87.62954                                                              </td><td>41.88424                                                               </td><td>-87.62963                                                              </td><td>member                                                                 </td></tr>\n",
       "\t<tr><td>F37D14B0B5659BCF                                                    </td><td>docked_bike                                                         </td><td>2020-06-23 17:12:41                                                 </td><td>2020-06-23 17:21:14                                                 </td><td><span style=white-space:pre-wrap>Daley Center Plaza         </span> </td><td>81                                                                  </td><td><span style=white-space:pre-wrap>State St &amp; Harrison St  </span></td><td><span style=white-space:pre-wrap>5  </span>                         </td><td>41.88424                                                            </td><td>-87.62963                                                           </td><td>41.87405                                                            </td><td>-87.62772                                                           </td><td>member                                                              </td></tr>\n",
       "\t<tr><td>C41237B506E85FA1                                                       </td><td>docked_bike                                                            </td><td>2020-06-20 01:09:35                                                    </td><td>2020-06-20 01:28:24                                                    </td><td><span style=white-space:pre-wrap>Broadway &amp; Cornelia Ave    </span></td><td>303                                                                    </td><td><span style=white-space:pre-wrap>Broadway &amp; Berwyn Ave   </span>   </td><td>294                                                                    </td><td>41.94553                                                               </td><td>-87.64644                                                              </td><td>41.97835                                                               </td><td>-87.65975                                                              </td><td>casual                                                                 </td></tr>\n",
       "\t<tr><td>4B51B3B0BDA7787C               </td><td>docked_bike                    </td><td>2020-06-25 16:59:25            </td><td>2020-06-25 17:08:48            </td><td>Sheffield Ave &amp; Webster Ave</td><td>327                            </td><td>Wilton Ave &amp; Belmont Ave   </td><td>117                            </td><td>41.92154                       </td><td>-87.65382                      </td><td>41.94018                       </td><td>-87.65304                      </td><td>casual                         </td></tr>\n",
       "\t<tr><td>D50DF288196B53BE               </td><td>docked_bike                    </td><td>2020-06-17 18:07:18            </td><td>2020-06-17 18:18:14            </td><td>Sheffield Ave &amp; Webster Ave</td><td>327                            </td><td>Wilton Ave &amp; Belmont Ave   </td><td>117                            </td><td>41.92154                       </td><td>-87.65382                      </td><td>41.94018                       </td><td>-87.65304                      </td><td>casual                         </td></tr>\n",
       "</tbody>\n",
       "</table>\n"
      ],
      "text/latex": [
       "\\begin{tabular}{r|lllllllllllll}\n",
       " ride\\_id & rideable\\_type & started\\_at & ended\\_at & start\\_station\\_name & start\\_station\\_id & end\\_station\\_name & end\\_station\\_id & start\\_lat & start\\_lng & end\\_lat & end\\_lng & member\\_casual\\\\\n",
       "\\hline\n",
       "\t 8CD5DE2C2B6C4CFC              & docked\\_bike                 & 2020-06-13 23:24:48           & 2020-06-13 23:36:55           & Wilton Ave \\& Belmont Ave    & 117                           & Damen Ave \\& Clybourn Ave    & 163                           & 41.94018                      & -87.65304                     & 41.93193                      & -87.67786                     & casual                       \\\\\n",
       "\t 9A191EB2C751D85D              & docked\\_bike                 & 2020-06-26 07:26:10           & 2020-06-26 07:31:58           & Federal St \\& Polk St        & 41                            & Daley Center Plaza            & 81                            & 41.87208                      & -87.62954                     & 41.88424                      & -87.62963                     & member                       \\\\\n",
       "\t F37D14B0B5659BCF            & docked\\_bike               & 2020-06-23 17:12:41         & 2020-06-23 17:21:14         & Daley Center Plaza          & 81                          & State St \\& Harrison St    & 5                           & 41.88424                    & -87.62963                   & 41.87405                    & -87.62772                   & member                     \\\\\n",
       "\t C41237B506E85FA1              & docked\\_bike                 & 2020-06-20 01:09:35           & 2020-06-20 01:28:24           & Broadway \\& Cornelia Ave     & 303                           & Broadway \\& Berwyn Ave       & 294                           & 41.94553                      & -87.64644                     & 41.97835                      & -87.65975                     & casual                       \\\\\n",
       "\t 4B51B3B0BDA7787C              & docked\\_bike                 & 2020-06-25 16:59:25           & 2020-06-25 17:08:48           & Sheffield Ave \\& Webster Ave & 327                           & Wilton Ave \\& Belmont Ave    & 117                           & 41.92154                      & -87.65382                     & 41.94018                      & -87.65304                     & casual                       \\\\\n",
       "\t D50DF288196B53BE              & docked\\_bike                 & 2020-06-17 18:07:18           & 2020-06-17 18:18:14           & Sheffield Ave \\& Webster Ave & 327                           & Wilton Ave \\& Belmont Ave    & 117                           & 41.92154                      & -87.65382                     & 41.94018                      & -87.65304                     & casual                       \\\\\n",
       "\\end{tabular}\n"
      ],
      "text/markdown": [
       "\n",
       "| ride_id | rideable_type | started_at | ended_at | start_station_name | start_station_id | end_station_name | end_station_id | start_lat | start_lng | end_lat | end_lng | member_casual |\n",
       "|---|---|---|---|---|---|---|---|---|---|---|---|---|\n",
       "| 8CD5DE2C2B6C4CFC            | docked_bike                 | 2020-06-13 23:24:48         | 2020-06-13 23:36:55         | Wilton Ave & Belmont Ave    | 117                         | Damen Ave & Clybourn Ave    | 163                         | 41.94018                    | -87.65304                   | 41.93193                    | -87.67786                   | casual                      |\n",
       "| 9A191EB2C751D85D            | docked_bike                 | 2020-06-26 07:26:10         | 2020-06-26 07:31:58         | Federal St & Polk St        | 41                          | Daley Center Plaza          | 81                          | 41.87208                    | -87.62954                   | 41.88424                    | -87.62963                   | member                      |\n",
       "| F37D14B0B5659BCF            | docked_bike                 | 2020-06-23 17:12:41         | 2020-06-23 17:21:14         | Daley Center Plaza          | 81                          | State St & Harrison St      | 5                           | 41.88424                    | -87.62963                   | 41.87405                    | -87.62772                   | member                      |\n",
       "| C41237B506E85FA1            | docked_bike                 | 2020-06-20 01:09:35         | 2020-06-20 01:28:24         | Broadway & Cornelia Ave     | 303                         | Broadway & Berwyn Ave       | 294                         | 41.94553                    | -87.64644                   | 41.97835                    | -87.65975                   | casual                      |\n",
       "| 4B51B3B0BDA7787C            | docked_bike                 | 2020-06-25 16:59:25         | 2020-06-25 17:08:48         | Sheffield Ave & Webster Ave | 327                         | Wilton Ave & Belmont Ave    | 117                         | 41.92154                    | -87.65382                   | 41.94018                    | -87.65304                   | casual                      |\n",
       "| D50DF288196B53BE            | docked_bike                 | 2020-06-17 18:07:18         | 2020-06-17 18:18:14         | Sheffield Ave & Webster Ave | 327                         | Wilton Ave & Belmont Ave    | 117                         | 41.92154                    | -87.65382                   | 41.94018                    | -87.65304                   | casual                      |\n",
       "\n"
      ],
      "text/plain": [
       "  ride_id          rideable_type started_at          ended_at           \n",
       "1 8CD5DE2C2B6C4CFC docked_bike   2020-06-13 23:24:48 2020-06-13 23:36:55\n",
       "2 9A191EB2C751D85D docked_bike   2020-06-26 07:26:10 2020-06-26 07:31:58\n",
       "3 F37D14B0B5659BCF docked_bike   2020-06-23 17:12:41 2020-06-23 17:21:14\n",
       "4 C41237B506E85FA1 docked_bike   2020-06-20 01:09:35 2020-06-20 01:28:24\n",
       "5 4B51B3B0BDA7787C docked_bike   2020-06-25 16:59:25 2020-06-25 17:08:48\n",
       "6 D50DF288196B53BE docked_bike   2020-06-17 18:07:18 2020-06-17 18:18:14\n",
       "  start_station_name          start_station_id end_station_name        \n",
       "1 Wilton Ave & Belmont Ave    117              Damen Ave & Clybourn Ave\n",
       "2 Federal St & Polk St        41               Daley Center Plaza      \n",
       "3 Daley Center Plaza          81               State St & Harrison St  \n",
       "4 Broadway & Cornelia Ave     303              Broadway & Berwyn Ave   \n",
       "5 Sheffield Ave & Webster Ave 327              Wilton Ave & Belmont Ave\n",
       "6 Sheffield Ave & Webster Ave 327              Wilton Ave & Belmont Ave\n",
       "  end_station_id start_lat start_lng end_lat  end_lng   member_casual\n",
       "1 163            41.94018  -87.65304 41.93193 -87.67786 casual       \n",
       "2 81             41.87208  -87.62954 41.88424 -87.62963 member       \n",
       "3 5              41.88424  -87.62963 41.87405 -87.62772 member       \n",
       "4 294            41.94553  -87.64644 41.97835 -87.65975 casual       \n",
       "5 117            41.92154  -87.65382 41.94018 -87.65304 casual       \n",
       "6 117            41.92154  -87.65382 41.94018 -87.65304 casual       "
      ]
     },
     "metadata": {},
     "output_type": "display_data"
    }
   ],
   "source": [
    "print(paste(\"This data has\", dim(all_data)[1], \"rows and\", dim(all_data)[2],\"columns\"))\n",
    "print(\"First 6 rows:\")\n",
    "head(all_data)  #See the first 6 rows of data frame."
   ]
  },
  {
   "cell_type": "code",
   "execution_count": 4,
   "id": "7ed07758",
   "metadata": {
    "scrolled": true
   },
   "outputs": [],
   "source": [
    "# check for duplicates\n",
    "# no duplicate\n",
    "# sum(duplicated(data))"
   ]
  },
  {
   "cell_type": "code",
   "execution_count": 5,
   "id": "027af500",
   "metadata": {},
   "outputs": [
    {
     "data": {
      "text/html": [
       "<dl class=dl-horizontal>\n",
       "\t<dt>ride_id</dt>\n",
       "\t\t<dd>0</dd>\n",
       "\t<dt>rideable_type</dt>\n",
       "\t\t<dd>0</dd>\n",
       "\t<dt>started_at</dt>\n",
       "\t\t<dd>0</dd>\n",
       "\t<dt>ended_at</dt>\n",
       "\t\t<dd>0</dd>\n",
       "\t<dt>start_station_name</dt>\n",
       "\t\t<dd>201975</dd>\n",
       "\t<dt>start_station_id</dt>\n",
       "\t\t<dd>202601</dd>\n",
       "\t<dt>end_station_name</dt>\n",
       "\t\t<dd>229190</dd>\n",
       "\t<dt>end_station_id</dt>\n",
       "\t\t<dd>229651</dd>\n",
       "\t<dt>start_lat</dt>\n",
       "\t\t<dd>0</dd>\n",
       "\t<dt>start_lng</dt>\n",
       "\t\t<dd>0</dd>\n",
       "\t<dt>end_lat</dt>\n",
       "\t\t<dd>5037</dd>\n",
       "\t<dt>end_lng</dt>\n",
       "\t\t<dd>5037</dd>\n",
       "\t<dt>member_casual</dt>\n",
       "\t\t<dd>0</dd>\n",
       "</dl>\n"
      ],
      "text/latex": [
       "\\begin{description*}\n",
       "\\item[ride\\textbackslash{}\\_id] 0\n",
       "\\item[rideable\\textbackslash{}\\_type] 0\n",
       "\\item[started\\textbackslash{}\\_at] 0\n",
       "\\item[ended\\textbackslash{}\\_at] 0\n",
       "\\item[start\\textbackslash{}\\_station\\textbackslash{}\\_name] 201975\n",
       "\\item[start\\textbackslash{}\\_station\\textbackslash{}\\_id] 202601\n",
       "\\item[end\\textbackslash{}\\_station\\textbackslash{}\\_name] 229190\n",
       "\\item[end\\textbackslash{}\\_station\\textbackslash{}\\_id] 229651\n",
       "\\item[start\\textbackslash{}\\_lat] 0\n",
       "\\item[start\\textbackslash{}\\_lng] 0\n",
       "\\item[end\\textbackslash{}\\_lat] 5037\n",
       "\\item[end\\textbackslash{}\\_lng] 5037\n",
       "\\item[member\\textbackslash{}\\_casual] 0\n",
       "\\end{description*}\n"
      ],
      "text/markdown": [
       "ride_id\n",
       ":   0rideable_type\n",
       ":   0started_at\n",
       ":   0ended_at\n",
       ":   0start_station_name\n",
       ":   201975start_station_id\n",
       ":   202601end_station_name\n",
       ":   229190end_station_id\n",
       ":   229651start_lat\n",
       ":   0start_lng\n",
       ":   0end_lat\n",
       ":   5037end_lng\n",
       ":   5037member_casual\n",
       ":   0\n",
       "\n"
      ],
      "text/plain": [
       "           ride_id      rideable_type         started_at           ended_at \n",
       "                 0                  0                  0                  0 \n",
       "start_station_name   start_station_id   end_station_name     end_station_id \n",
       "            201975             202601             229190             229651 \n",
       "         start_lat          start_lng            end_lat            end_lng \n",
       "                 0                  0               5037               5037 \n",
       "     member_casual \n",
       "                 0 "
      ]
     },
     "metadata": {},
     "output_type": "display_data"
    }
   ],
   "source": [
    "# check for missing values\n",
    "# missing values in the name, id and location of stations\n",
    "# can be ignored\n",
    "colSums(is.na(all_data))"
   ]
  },
  {
   "cell_type": "markdown",
   "id": "fea7a230",
   "metadata": {},
   "source": [
    "## Step 3: Process"
   ]
  },
  {
   "cell_type": "markdown",
   "id": "ce793d78",
   "metadata": {},
   "source": [
    "To make the data analysis-ready, I've performed some processing steps, including:\n",
    "- cleaning the data \n",
    "- creating new columns that will be used for analysis.\n",
    "\n",
    "Since the data manipulation is rather extensive, I decide to perform the changes on a copy of the dataset instead of using the original.\n",
    "\n",
    "Below is the list of all the changes that have been made:\n",
    "1. Removed 10336 rows where `started_at` > `ended_at`\n",
    "2. Added column `ride_length` (= `ended_at` - `started_at`)\n",
    "3. Added column `hour` (hour of the day of `started_at`\n",
    "4. Added column `day_of_week` (the day of the week of `started_at`)\n",
    "5. Added column `month` (the month of `started_at`)\n",
    "\n",
    "\n",
    "The new dataset contains: 4063225 rows and 17 columns."
   ]
  },
  {
   "cell_type": "markdown",
   "id": "bbc090f9",
   "metadata": {},
   "source": [
    "#### 1. Clean data"
   ]
  },
  {
   "cell_type": "code",
   "execution_count": 6,
   "id": "97a37e01",
   "metadata": {},
   "outputs": [
    {
     "data": {
      "text/html": [
       "'10336 rows have been removed.'"
      ],
      "text/latex": [
       "'10336 rows have been removed.'"
      ],
      "text/markdown": [
       "'10336 rows have been removed.'"
      ],
      "text/plain": [
       "[1] \"10336 rows have been removed.\""
      ]
     },
     "metadata": {},
     "output_type": "display_data"
    }
   ],
   "source": [
    "# remove bad data and save as a new dataframe\n",
    "data <- all_data[!(all_data$started_at > all_data$ended_at),]\n",
    "\n",
    "# see how many rows were removed\n",
    "rows_removed <- dim(all_data)[1] - dim(data)[1]\n",
    "paste(rows_removed, \"rows have been removed.\")"
   ]
  },
  {
   "cell_type": "markdown",
   "id": "84e56379",
   "metadata": {},
   "source": [
    "#### 2. Create new columns"
   ]
  },
  {
   "cell_type": "code",
   "execution_count": 7,
   "id": "7ce0f107",
   "metadata": {},
   "outputs": [],
   "source": [
    "# month column\n",
    "data$month <- lubridate::month(data$started_at, label = TRUE)\n",
    "\n",
    "# day_of_week column\n",
    "data$day_of_week <- lubridate::wday(data$started_at, label = TRUE, week_start = 1)\n",
    "\n",
    "# hour column\n",
    "data$hour <- lubridate::hour(data$started_at)"
   ]
  },
  {
   "cell_type": "code",
   "execution_count": 8,
   "id": "a3ca44ea",
   "metadata": {},
   "outputs": [
    {
     "data": {
      "text/plain": [
       "Time differences in secs\n",
       " [1]  727  348  513 1129  563  656  398  499 1267  642"
      ]
     },
     "metadata": {},
     "output_type": "display_data"
    }
   ],
   "source": [
    "# calculate ride_length (in seconds)\n",
    "data$ride_length <- difftime(data$ended_at,data$started_at)\n",
    "head(data$ride_length,10)\n",
    "data$ride_length <- as.numeric(as.character(data$ride_length))"
   ]
  },
  {
   "cell_type": "code",
   "execution_count": 9,
   "id": "b0de1c01",
   "metadata": {
    "scrolled": false
   },
   "outputs": [
    {
     "name": "stdout",
     "output_type": "stream",
     "text": [
      "[1] \"The new dataframe has 4063225 rows and 17 columns\"\n"
     ]
    },
    {
     "data": {
      "text/html": [
       "<table>\n",
       "<thead><tr><th scope=col>ride_id</th><th scope=col>rideable_type</th><th scope=col>started_at</th><th scope=col>ended_at</th><th scope=col>start_station_name</th><th scope=col>start_station_id</th><th scope=col>end_station_name</th><th scope=col>end_station_id</th><th scope=col>start_lat</th><th scope=col>start_lng</th><th scope=col>end_lat</th><th scope=col>end_lng</th><th scope=col>member_casual</th><th scope=col>month</th><th scope=col>day_of_week</th><th scope=col>hour</th><th scope=col>ride_length</th></tr></thead>\n",
       "<tbody>\n",
       "\t<tr><td>8CD5DE2C2B6C4CFC                                                       </td><td>docked_bike                                                            </td><td>2020-06-13 23:24:48                                                    </td><td>2020-06-13 23:36:55                                                    </td><td><span style=white-space:pre-wrap>Wilton Ave &amp; Belmont Ave   </span></td><td>117                                                                    </td><td>Damen Ave &amp; Clybourn Ave                                           </td><td>163                                                                    </td><td>41.94018                                                               </td><td>-87.65304                                                              </td><td>41.93193                                                               </td><td>-87.67786                                                              </td><td>casual                                                                 </td><td>Jun                                                                    </td><td>Sat                                                                    </td><td>23                                                                     </td><td> 727                                                                   </td></tr>\n",
       "\t<tr><td>9A191EB2C751D85D                                                       </td><td>docked_bike                                                            </td><td>2020-06-26 07:26:10                                                    </td><td>2020-06-26 07:31:58                                                    </td><td><span style=white-space:pre-wrap>Federal St &amp; Polk St       </span></td><td>41                                                                     </td><td><span style=white-space:pre-wrap>Daley Center Plaza      </span>       </td><td>81                                                                     </td><td>41.87208                                                               </td><td>-87.62954                                                              </td><td>41.88424                                                               </td><td>-87.62963                                                              </td><td>member                                                                 </td><td>Jun                                                                    </td><td>Fri                                                                    </td><td> 7                                                                     </td><td> 348                                                                   </td></tr>\n",
       "\t<tr><td>F37D14B0B5659BCF                                                    </td><td>docked_bike                                                         </td><td>2020-06-23 17:12:41                                                 </td><td>2020-06-23 17:21:14                                                 </td><td><span style=white-space:pre-wrap>Daley Center Plaza         </span> </td><td>81                                                                  </td><td><span style=white-space:pre-wrap>State St &amp; Harrison St  </span></td><td><span style=white-space:pre-wrap>5  </span>                         </td><td>41.88424                                                            </td><td>-87.62963                                                           </td><td>41.87405                                                            </td><td>-87.62772                                                           </td><td>member                                                              </td><td>Jun                                                                 </td><td>Tue                                                                 </td><td>17                                                                  </td><td> 513                                                                </td></tr>\n",
       "\t<tr><td>C41237B506E85FA1                                                       </td><td>docked_bike                                                            </td><td>2020-06-20 01:09:35                                                    </td><td>2020-06-20 01:28:24                                                    </td><td><span style=white-space:pre-wrap>Broadway &amp; Cornelia Ave    </span></td><td>303                                                                    </td><td><span style=white-space:pre-wrap>Broadway &amp; Berwyn Ave   </span>   </td><td>294                                                                    </td><td>41.94553                                                               </td><td>-87.64644                                                              </td><td>41.97835                                                               </td><td>-87.65975                                                              </td><td>casual                                                                 </td><td>Jun                                                                    </td><td>Sat                                                                    </td><td> 1                                                                     </td><td>1129                                                                   </td></tr>\n",
       "\t<tr><td>4B51B3B0BDA7787C               </td><td>docked_bike                    </td><td>2020-06-25 16:59:25            </td><td>2020-06-25 17:08:48            </td><td>Sheffield Ave &amp; Webster Ave</td><td>327                            </td><td>Wilton Ave &amp; Belmont Ave   </td><td>117                            </td><td>41.92154                       </td><td>-87.65382                      </td><td>41.94018                       </td><td>-87.65304                      </td><td>casual                         </td><td>Jun                            </td><td>Thu                            </td><td>16                             </td><td> 563                           </td></tr>\n",
       "\t<tr><td>D50DF288196B53BE               </td><td>docked_bike                    </td><td>2020-06-17 18:07:18            </td><td>2020-06-17 18:18:14            </td><td>Sheffield Ave &amp; Webster Ave</td><td>327                            </td><td>Wilton Ave &amp; Belmont Ave   </td><td>117                            </td><td>41.92154                       </td><td>-87.65382                      </td><td>41.94018                       </td><td>-87.65304                      </td><td>casual                         </td><td>Jun                            </td><td>Wed                            </td><td>18                             </td><td> 656                           </td></tr>\n",
       "</tbody>\n",
       "</table>\n"
      ],
      "text/latex": [
       "\\begin{tabular}{r|lllllllllllllllll}\n",
       " ride\\_id & rideable\\_type & started\\_at & ended\\_at & start\\_station\\_name & start\\_station\\_id & end\\_station\\_name & end\\_station\\_id & start\\_lat & start\\_lng & end\\_lat & end\\_lng & member\\_casual & month & day\\_of\\_week & hour & ride\\_length\\\\\n",
       "\\hline\n",
       "\t 8CD5DE2C2B6C4CFC              & docked\\_bike                 & 2020-06-13 23:24:48           & 2020-06-13 23:36:55           & Wilton Ave \\& Belmont Ave    & 117                           & Damen Ave \\& Clybourn Ave    & 163                           & 41.94018                      & -87.65304                     & 41.93193                      & -87.67786                     & casual                        & Jun                           & Sat                           & 23                            &  727                         \\\\\n",
       "\t 9A191EB2C751D85D              & docked\\_bike                 & 2020-06-26 07:26:10           & 2020-06-26 07:31:58           & Federal St \\& Polk St        & 41                            & Daley Center Plaza            & 81                            & 41.87208                      & -87.62954                     & 41.88424                      & -87.62963                     & member                        & Jun                           & Fri                           &  7                            &  348                         \\\\\n",
       "\t F37D14B0B5659BCF            & docked\\_bike               & 2020-06-23 17:12:41         & 2020-06-23 17:21:14         & Daley Center Plaza          & 81                          & State St \\& Harrison St    & 5                           & 41.88424                    & -87.62963                   & 41.87405                    & -87.62772                   & member                      & Jun                         & Tue                         & 17                          &  513                       \\\\\n",
       "\t C41237B506E85FA1              & docked\\_bike                 & 2020-06-20 01:09:35           & 2020-06-20 01:28:24           & Broadway \\& Cornelia Ave     & 303                           & Broadway \\& Berwyn Ave       & 294                           & 41.94553                      & -87.64644                     & 41.97835                      & -87.65975                     & casual                        & Jun                           & Sat                           &  1                            & 1129                         \\\\\n",
       "\t 4B51B3B0BDA7787C              & docked\\_bike                 & 2020-06-25 16:59:25           & 2020-06-25 17:08:48           & Sheffield Ave \\& Webster Ave & 327                           & Wilton Ave \\& Belmont Ave    & 117                           & 41.92154                      & -87.65382                     & 41.94018                      & -87.65304                     & casual                        & Jun                           & Thu                           & 16                            &  563                         \\\\\n",
       "\t D50DF288196B53BE              & docked\\_bike                 & 2020-06-17 18:07:18           & 2020-06-17 18:18:14           & Sheffield Ave \\& Webster Ave & 327                           & Wilton Ave \\& Belmont Ave    & 117                           & 41.92154                      & -87.65382                     & 41.94018                      & -87.65304                     & casual                        & Jun                           & Wed                           & 18                            &  656                         \\\\\n",
       "\\end{tabular}\n"
      ],
      "text/markdown": [
       "\n",
       "| ride_id | rideable_type | started_at | ended_at | start_station_name | start_station_id | end_station_name | end_station_id | start_lat | start_lng | end_lat | end_lng | member_casual | month | day_of_week | hour | ride_length |\n",
       "|---|---|---|---|---|---|---|---|---|---|---|---|---|---|---|---|---|\n",
       "| 8CD5DE2C2B6C4CFC            | docked_bike                 | 2020-06-13 23:24:48         | 2020-06-13 23:36:55         | Wilton Ave & Belmont Ave    | 117                         | Damen Ave & Clybourn Ave    | 163                         | 41.94018                    | -87.65304                   | 41.93193                    | -87.67786                   | casual                      | Jun                         | Sat                         | 23                          |  727                        |\n",
       "| 9A191EB2C751D85D            | docked_bike                 | 2020-06-26 07:26:10         | 2020-06-26 07:31:58         | Federal St & Polk St        | 41                          | Daley Center Plaza          | 81                          | 41.87208                    | -87.62954                   | 41.88424                    | -87.62963                   | member                      | Jun                         | Fri                         |  7                          |  348                        |\n",
       "| F37D14B0B5659BCF            | docked_bike                 | 2020-06-23 17:12:41         | 2020-06-23 17:21:14         | Daley Center Plaza          | 81                          | State St & Harrison St      | 5                           | 41.88424                    | -87.62963                   | 41.87405                    | -87.62772                   | member                      | Jun                         | Tue                         | 17                          |  513                        |\n",
       "| C41237B506E85FA1            | docked_bike                 | 2020-06-20 01:09:35         | 2020-06-20 01:28:24         | Broadway & Cornelia Ave     | 303                         | Broadway & Berwyn Ave       | 294                         | 41.94553                    | -87.64644                   | 41.97835                    | -87.65975                   | casual                      | Jun                         | Sat                         |  1                          | 1129                        |\n",
       "| 4B51B3B0BDA7787C            | docked_bike                 | 2020-06-25 16:59:25         | 2020-06-25 17:08:48         | Sheffield Ave & Webster Ave | 327                         | Wilton Ave & Belmont Ave    | 117                         | 41.92154                    | -87.65382                   | 41.94018                    | -87.65304                   | casual                      | Jun                         | Thu                         | 16                          |  563                        |\n",
       "| D50DF288196B53BE            | docked_bike                 | 2020-06-17 18:07:18         | 2020-06-17 18:18:14         | Sheffield Ave & Webster Ave | 327                         | Wilton Ave & Belmont Ave    | 117                         | 41.92154                    | -87.65382                   | 41.94018                    | -87.65304                   | casual                      | Jun                         | Wed                         | 18                          |  656                        |\n",
       "\n"
      ],
      "text/plain": [
       "  ride_id          rideable_type started_at          ended_at           \n",
       "1 8CD5DE2C2B6C4CFC docked_bike   2020-06-13 23:24:48 2020-06-13 23:36:55\n",
       "2 9A191EB2C751D85D docked_bike   2020-06-26 07:26:10 2020-06-26 07:31:58\n",
       "3 F37D14B0B5659BCF docked_bike   2020-06-23 17:12:41 2020-06-23 17:21:14\n",
       "4 C41237B506E85FA1 docked_bike   2020-06-20 01:09:35 2020-06-20 01:28:24\n",
       "5 4B51B3B0BDA7787C docked_bike   2020-06-25 16:59:25 2020-06-25 17:08:48\n",
       "6 D50DF288196B53BE docked_bike   2020-06-17 18:07:18 2020-06-17 18:18:14\n",
       "  start_station_name          start_station_id end_station_name        \n",
       "1 Wilton Ave & Belmont Ave    117              Damen Ave & Clybourn Ave\n",
       "2 Federal St & Polk St        41               Daley Center Plaza      \n",
       "3 Daley Center Plaza          81               State St & Harrison St  \n",
       "4 Broadway & Cornelia Ave     303              Broadway & Berwyn Ave   \n",
       "5 Sheffield Ave & Webster Ave 327              Wilton Ave & Belmont Ave\n",
       "6 Sheffield Ave & Webster Ave 327              Wilton Ave & Belmont Ave\n",
       "  end_station_id start_lat start_lng end_lat  end_lng   member_casual month\n",
       "1 163            41.94018  -87.65304 41.93193 -87.67786 casual        Jun  \n",
       "2 81             41.87208  -87.62954 41.88424 -87.62963 member        Jun  \n",
       "3 5              41.88424  -87.62963 41.87405 -87.62772 member        Jun  \n",
       "4 294            41.94553  -87.64644 41.97835 -87.65975 casual        Jun  \n",
       "5 117            41.92154  -87.65382 41.94018 -87.65304 casual        Jun  \n",
       "6 117            41.92154  -87.65382 41.94018 -87.65304 casual        Jun  \n",
       "  day_of_week hour ride_length\n",
       "1 Sat         23    727       \n",
       "2 Fri          7    348       \n",
       "3 Tue         17    513       \n",
       "4 Sat          1   1129       \n",
       "5 Thu         16    563       \n",
       "6 Wed         18    656       "
      ]
     },
     "metadata": {},
     "output_type": "display_data"
    }
   ],
   "source": [
    "# inspecting the new dataframe\n",
    "print(paste(\"The new dataframe has\", dim(data)[1], \"rows and\", dim(data)[2],\"columns\"))\n",
    "head(data)"
   ]
  },
  {
   "cell_type": "markdown",
   "id": "0e5f218d",
   "metadata": {},
   "source": [
    "## Step 4: Analyze\n",
    "\n",
    "Based on the available data, I will analyze 2 key metrics: \n",
    "- number of rides\n",
    "- ride duration (in seconds)\n",
    "\n",
    "and break them down by: \n",
    "- type of membership\n",
    "- type of bike used\n",
    "- month when the trip started\n",
    "- day of the week when the trip started\n",
    "- time of day when the trip started\n",
    "- start and end stations"
   ]
  },
  {
   "cell_type": "markdown",
   "id": "f1c218d6",
   "metadata": {},
   "source": [
    "###### Overall "
   ]
  },
  {
   "cell_type": "code",
   "execution_count": 10,
   "id": "cbb4edf9",
   "metadata": {},
   "outputs": [
    {
     "data": {
      "text/html": [
       "<table>\n",
       "<thead><tr><th scope=col>mean_ride_length</th><th scope=col>number_of_rides</th></tr></thead>\n",
       "<tbody>\n",
       "\t<tr><td>1617.009</td><td>4063225 </td></tr>\n",
       "</tbody>\n",
       "</table>\n"
      ],
      "text/latex": [
       "\\begin{tabular}{r|ll}\n",
       " mean\\_ride\\_length & number\\_of\\_rides\\\\\n",
       "\\hline\n",
       "\t 1617.009 & 4063225 \\\\\n",
       "\\end{tabular}\n"
      ],
      "text/markdown": [
       "\n",
       "| mean_ride_length | number_of_rides |\n",
       "|---|---|\n",
       "| 1617.009 | 4063225  |\n",
       "\n"
      ],
      "text/plain": [
       "  mean_ride_length number_of_rides\n",
       "1 1617.009         4063225        "
      ]
     },
     "metadata": {},
     "output_type": "display_data"
    }
   ],
   "source": [
    "overall <- setDT(data)[,list(mean_ride_length = mean(ride_length), \n",
    "                             number_of_rides = .N)]\n",
    "overall"
   ]
  },
  {
   "cell_type": "markdown",
   "id": "a861316b",
   "metadata": {},
   "source": [
    "###### By membership"
   ]
  },
  {
   "cell_type": "code",
   "execution_count": 11,
   "id": "4a5f46d1",
   "metadata": {},
   "outputs": [
    {
     "data": {
      "text/html": [
       "<table>\n",
       "<thead><tr><th scope=col>member_casual</th><th scope=col>mean_ride_length</th><th scope=col>total_ride_length</th><th scope=col>number_of_rides</th><th scope=col>percent_of_rides</th></tr></thead>\n",
       "<tbody>\n",
       "\t<tr><td>casual    </td><td>2561.782  </td><td>4381117781</td><td>1710184   </td><td>0.4208933 </td></tr>\n",
       "\t<tr><td>member    </td><td> 930.351  </td><td>2189154015</td><td>2353041   </td><td>0.5791067 </td></tr>\n",
       "</tbody>\n",
       "</table>\n"
      ],
      "text/latex": [
       "\\begin{tabular}{r|lllll}\n",
       " member\\_casual & mean\\_ride\\_length & total\\_ride\\_length & number\\_of\\_rides & percent\\_of\\_rides\\\\\n",
       "\\hline\n",
       "\t casual     & 2561.782   & 4381117781 & 1710184    & 0.4208933 \\\\\n",
       "\t member     &  930.351   & 2189154015 & 2353041    & 0.5791067 \\\\\n",
       "\\end{tabular}\n"
      ],
      "text/markdown": [
       "\n",
       "| member_casual | mean_ride_length | total_ride_length | number_of_rides | percent_of_rides |\n",
       "|---|---|---|---|---|\n",
       "| casual     | 2561.782   | 4381117781 | 1710184    | 0.4208933  |\n",
       "| member     |  930.351   | 2189154015 | 2353041    | 0.5791067  |\n",
       "\n"
      ],
      "text/plain": [
       "  member_casual mean_ride_length total_ride_length number_of_rides\n",
       "1 casual        2561.782         4381117781        1710184        \n",
       "2 member         930.351         2189154015        2353041        \n",
       "  percent_of_rides\n",
       "1 0.4208933       \n",
       "2 0.5791067       "
      ]
     },
     "metadata": {},
     "output_type": "display_data"
    }
   ],
   "source": [
    "by_membership <- setDT(data)[,list(mean_ride_length = mean(ride_length),\n",
    "                                   total_ride_length = sum(ride_length),\n",
    "                                   number_of_rides = .N, \n",
    "                                   percent_of_rides = .N/dim(data)[1]), \n",
    "                             by = 'member_casual']\n",
    "by_membership"
   ]
  },
  {
   "cell_type": "code",
   "execution_count": 12,
   "id": "de26c18a",
   "metadata": {},
   "outputs": [
    {
     "data": {
      "image/png": "[encoded data removed]",
      "text/plain": [
       "plot without title"
      ]
     },
     "metadata": {},
     "output_type": "display_data"
    }
   ],
   "source": [
    "by_membership  %>% \n",
    "    arrange(desc(member_casual)) %>%\n",
    "    mutate(percent_of_rides = percent_of_rides*100)  %>% \n",
    "    mutate(ypos = cumsum(percent_of_rides) - percent_of_rides*0.5)  %>% \n",
    "\n",
    "    # making a pie chart in ggplot is a bit tricky\n",
    "    ggplot(aes(x=\"\", y=percent_of_rides, fill=member_casual)) +\n",
    "    ggtitle(\"Percentage of rides by membership\") +\n",
    "    geom_bar(stat=\"identity\", width=1, color=\"white\") +\n",
    "    coord_polar(\"y\", start=0) +\n",
    "    geom_text(aes(y = ypos, label = paste0(round(percent_of_rides, 2),\"%\")), color = \"white\", size=6) + \n",
    "    scale_fill_discrete(name = \"Type of membership\", labels = c(\"Casual riders\", \"Annual members\")) +\n",
    "    theme_economist() +\n",
    "    theme(axis.title.x = element_blank(),\n",
    "          axis.title.y = element_blank(),\n",
    "          axis.text.x=element_blank(),\n",
    "          axis.line=element_blank(),\n",
    "          panel.border = element_blank(),\n",
    "          panel.grid=element_blank(),\n",
    "          axis.ticks = element_blank())"
   ]
  },
  {
   "cell_type": "markdown",
   "id": "fd2f9e4d",
   "metadata": {},
   "source": [
    "###### By bike type"
   ]
  },
  {
   "cell_type": "code",
   "execution_count": 13,
   "id": "5b5e6e0b",
   "metadata": {},
   "outputs": [
    {
     "data": {
      "text/html": [
       "<table>\n",
       "<thead><tr><th scope=col>rideable_type</th><th scope=col>mean_ride_length</th><th scope=col>number_of_rides</th><th scope=col>percent_of_rides</th></tr></thead>\n",
       "<tbody>\n",
       "\t<tr><td>docked_bike  </td><td>1994.031     </td><td>2331368      </td><td>0.5737728    </td></tr>\n",
       "\t<tr><td>electric_bike</td><td>1014.723     </td><td> 888278      </td><td>0.2186140    </td></tr>\n",
       "\t<tr><td>classic_bike </td><td>1209.246     </td><td> 843579      </td><td>0.2076132    </td></tr>\n",
       "</tbody>\n",
       "</table>\n"
      ],
      "text/latex": [
       "\\begin{tabular}{r|llll}\n",
       " rideable\\_type & mean\\_ride\\_length & number\\_of\\_rides & percent\\_of\\_rides\\\\\n",
       "\\hline\n",
       "\t docked\\_bike   & 1994.031        & 2331368         & 0.5737728      \\\\\n",
       "\t electric\\_bike & 1014.723        &  888278         & 0.2186140      \\\\\n",
       "\t classic\\_bike  & 1209.246        &  843579         & 0.2076132      \\\\\n",
       "\\end{tabular}\n"
      ],
      "text/markdown": [
       "\n",
       "| rideable_type | mean_ride_length | number_of_rides | percent_of_rides |\n",
       "|---|---|---|---|\n",
       "| docked_bike   | 1994.031      | 2331368       | 0.5737728     |\n",
       "| electric_bike | 1014.723      |  888278       | 0.2186140     |\n",
       "| classic_bike  | 1209.246      |  843579       | 0.2076132     |\n",
       "\n"
      ],
      "text/plain": [
       "  rideable_type mean_ride_length number_of_rides percent_of_rides\n",
       "1 docked_bike   1994.031         2331368         0.5737728       \n",
       "2 electric_bike 1014.723          888278         0.2186140       \n",
       "3 classic_bike  1209.246          843579         0.2076132       "
      ]
     },
     "metadata": {},
     "output_type": "display_data"
    }
   ],
   "source": [
    "by_bike_type <- setDT(data)[,list(mean_ride_length = mean(ride_length), number_of_rides = .N, percent_of_rides = .N/dim(data)[1]), \n",
    "                                  by = 'rideable_type']\n",
    "by_bike_type"
   ]
  },
  {
   "cell_type": "markdown",
   "id": "ecb52888",
   "metadata": {},
   "source": [
    "###### By membership and bike type"
   ]
  },
  {
   "cell_type": "code",
   "execution_count": 14,
   "id": "0b605c5c",
   "metadata": {
    "scrolled": true
   },
   "outputs": [
    {
     "data": {
      "text/html": [
       "<table>\n",
       "<thead><tr><th scope=col>member_casual</th><th scope=col>rideable_type</th><th scope=col>mean_ride_length</th><th scope=col>number_of_rides</th></tr></thead>\n",
       "<tbody>\n",
       "\t<tr><td>casual       </td><td>docked_bike  </td><td>3162.7465    </td><td>1071021      </td></tr>\n",
       "\t<tr><td>casual       </td><td>electric_bike</td><td>1298.6042    </td><td> 373637      </td></tr>\n",
       "\t<tr><td>casual       </td><td>classic_bike </td><td>1915.2296    </td><td> 265526      </td></tr>\n",
       "\t<tr><td>member       </td><td>docked_bike  </td><td>1000.8776    </td><td>1260347      </td></tr>\n",
       "\t<tr><td>member       </td><td>electric_bike</td><td> 808.6219    </td><td> 514641      </td></tr>\n",
       "\t<tr><td>member       </td><td>classic_bike </td><td> 884.9552    </td><td> 578053      </td></tr>\n",
       "</tbody>\n",
       "</table>\n"
      ],
      "text/latex": [
       "\\begin{tabular}{r|llll}\n",
       " member\\_casual & rideable\\_type & mean\\_ride\\_length & number\\_of\\_rides\\\\\n",
       "\\hline\n",
       "\t casual          & docked\\_bike   & 3162.7465       & 1071021        \\\\\n",
       "\t casual          & electric\\_bike & 1298.6042       &  373637        \\\\\n",
       "\t casual          & classic\\_bike  & 1915.2296       &  265526        \\\\\n",
       "\t member          & docked\\_bike   & 1000.8776       & 1260347        \\\\\n",
       "\t member          & electric\\_bike &  808.6219       &  514641        \\\\\n",
       "\t member          & classic\\_bike  &  884.9552       &  578053        \\\\\n",
       "\\end{tabular}\n"
      ],
      "text/markdown": [
       "\n",
       "| member_casual | rideable_type | mean_ride_length | number_of_rides |\n",
       "|---|---|---|---|\n",
       "| casual        | docked_bike   | 3162.7465     | 1071021       |\n",
       "| casual        | electric_bike | 1298.6042     |  373637       |\n",
       "| casual        | classic_bike  | 1915.2296     |  265526       |\n",
       "| member        | docked_bike   | 1000.8776     | 1260347       |\n",
       "| member        | electric_bike |  808.6219     |  514641       |\n",
       "| member        | classic_bike  |  884.9552     |  578053       |\n",
       "\n"
      ],
      "text/plain": [
       "  member_casual rideable_type mean_ride_length number_of_rides\n",
       "1 casual        docked_bike   3162.7465        1071021        \n",
       "2 casual        electric_bike 1298.6042         373637        \n",
       "3 casual        classic_bike  1915.2296         265526        \n",
       "4 member        docked_bike   1000.8776        1260347        \n",
       "5 member        electric_bike  808.6219         514641        \n",
       "6 member        classic_bike   884.9552         578053        "
      ]
     },
     "metadata": {},
     "output_type": "display_data"
    }
   ],
   "source": [
    "by_membership_and_bike_type <- setDT(data)[order(member_casual),\n",
    "                                           list(mean_ride_length = mean(ride_length), \n",
    "                                                number_of_rides = .N),                \n",
    "                                           by = 'member_casual,rideable_type']\n",
    "by_membership_and_bike_type"
   ]
  },
  {
   "cell_type": "code",
   "execution_count": 15,
   "id": "6b39ed45",
   "metadata": {},
   "outputs": [
    {
     "data": {
      "image/png": "[encoded data removed]",
      "text/plain": [
       "plot without title"
      ]
     },
     "metadata": {},
     "output_type": "display_data"
    }
   ],
   "source": [
    "ggplot(data = by_membership_and_bike_type, aes(x = rideable_type, y = number_of_rides, fill = member_casual))+\n",
    "    geom_col() +\n",
    "    labs(title=\"Number of rides by type of membership and type of bike\", x = \"Type of bike\", y = \"Number of rides\") +\n",
    "    scale_fill_discrete(name = \"Type of membership\", labels = c(\"Casual riders\", \"Annual members\")) +\n",
    "    theme_economist()"
   ]
  },
  {
   "cell_type": "markdown",
   "id": "5cb03422",
   "metadata": {},
   "source": [
    "###### By membership and month"
   ]
  },
  {
   "cell_type": "code",
   "execution_count": 16,
   "id": "a2cf4f12",
   "metadata": {},
   "outputs": [
    {
     "data": {
      "text/html": [
       "<table>\n",
       "<thead><tr><th scope=col>month</th><th scope=col>member_casual</th><th scope=col>number_of_rides</th><th scope=col>mean_ride_length</th></tr></thead>\n",
       "<tbody>\n",
       "\t<tr><td>Jan      </td><td>casual   </td><td> 18117   </td><td>1541.0754</td></tr>\n",
       "\t<tr><td>Jan      </td><td>member   </td><td> 78715   </td><td> 772.3387</td></tr>\n",
       "\t<tr><td>Feb      </td><td>casual   </td><td> 10131   </td><td>2962.3937</td></tr>\n",
       "\t<tr><td>Feb      </td><td>member   </td><td> 39491   </td><td>1081.3251</td></tr>\n",
       "\t<tr><td>Mar      </td><td>casual   </td><td> 84032   </td><td>2289.5511</td></tr>\n",
       "\t<tr><td>Mar      </td><td>member   </td><td>144462   </td><td> 838.2031</td></tr>\n",
       "\t<tr><td>Apr      </td><td>casual   </td><td>136601   </td><td>2281.3794</td></tr>\n",
       "\t<tr><td>Apr      </td><td>member   </td><td>200624   </td><td> 881.3527</td></tr>\n",
       "\t<tr><td>May      </td><td>casual   </td><td>256916   </td><td>2293.8580</td></tr>\n",
       "\t<tr><td>May      </td><td>member   </td><td>274715   </td><td> 878.3410</td></tr>\n",
       "\t<tr><td>Jun      </td><td>casual   </td><td>154551   </td><td>3099.9865</td></tr>\n",
       "\t<tr><td>Jun      </td><td>member   </td><td>187985   </td><td>1123.8906</td></tr>\n",
       "\t<tr><td>Jul      </td><td>casual   </td><td>268688   </td><td>3596.9503</td></tr>\n",
       "\t<tr><td>Jul      </td><td>member   </td><td>281047   </td><td>1065.9347</td></tr>\n",
       "\t<tr><td>Aug      </td><td>casual   </td><td>288639   </td><td>2695.8902</td></tr>\n",
       "\t<tr><td>Aug      </td><td>member   </td><td>330953   </td><td>1009.9973</td></tr>\n",
       "\t<tr><td>Sep      </td><td>casual   </td><td>230072   </td><td>2293.1693</td></tr>\n",
       "\t<tr><td>Sep      </td><td>member   </td><td>300754   </td><td> 932.4074</td></tr>\n",
       "\t<tr><td>Oct      </td><td>casual   </td><td>144529   </td><td>1815.3117</td></tr>\n",
       "\t<tr><td>Oct      </td><td>member   </td><td>242213   </td><td> 842.9632</td></tr>\n",
       "\t<tr><td>Nov      </td><td>casual   </td><td> 87911   </td><td>1909.1682</td></tr>\n",
       "\t<tr><td>Nov      </td><td>member   </td><td>170940   </td><td> 815.3079</td></tr>\n",
       "\t<tr><td>Dec      </td><td>casual   </td><td> 29997   </td><td>1610.9764</td></tr>\n",
       "\t<tr><td>Dec      </td><td>member   </td><td>101142   </td><td> 764.9615</td></tr>\n",
       "</tbody>\n",
       "</table>\n"
      ],
      "text/latex": [
       "\\begin{tabular}{r|llll}\n",
       " month & member\\_casual & number\\_of\\_rides & mean\\_ride\\_length\\\\\n",
       "\\hline\n",
       "\t Jan       & casual    &  18117    & 1541.0754\\\\\n",
       "\t Jan       & member    &  78715    &  772.3387\\\\\n",
       "\t Feb       & casual    &  10131    & 2962.3937\\\\\n",
       "\t Feb       & member    &  39491    & 1081.3251\\\\\n",
       "\t Mar       & casual    &  84032    & 2289.5511\\\\\n",
       "\t Mar       & member    & 144462    &  838.2031\\\\\n",
       "\t Apr       & casual    & 136601    & 2281.3794\\\\\n",
       "\t Apr       & member    & 200624    &  881.3527\\\\\n",
       "\t May       & casual    & 256916    & 2293.8580\\\\\n",
       "\t May       & member    & 274715    &  878.3410\\\\\n",
       "\t Jun       & casual    & 154551    & 3099.9865\\\\\n",
       "\t Jun       & member    & 187985    & 1123.8906\\\\\n",
       "\t Jul       & casual    & 268688    & 3596.9503\\\\\n",
       "\t Jul       & member    & 281047    & 1065.9347\\\\\n",
       "\t Aug       & casual    & 288639    & 2695.8902\\\\\n",
       "\t Aug       & member    & 330953    & 1009.9973\\\\\n",
       "\t Sep       & casual    & 230072    & 2293.1693\\\\\n",
       "\t Sep       & member    & 300754    &  932.4074\\\\\n",
       "\t Oct       & casual    & 144529    & 1815.3117\\\\\n",
       "\t Oct       & member    & 242213    &  842.9632\\\\\n",
       "\t Nov       & casual    &  87911    & 1909.1682\\\\\n",
       "\t Nov       & member    & 170940    &  815.3079\\\\\n",
       "\t Dec       & casual    &  29997    & 1610.9764\\\\\n",
       "\t Dec       & member    & 101142    &  764.9615\\\\\n",
       "\\end{tabular}\n"
      ],
      "text/markdown": [
       "\n",
       "| month | member_casual | number_of_rides | mean_ride_length |\n",
       "|---|---|---|---|\n",
       "| Jan       | casual    |  18117    | 1541.0754 |\n",
       "| Jan       | member    |  78715    |  772.3387 |\n",
       "| Feb       | casual    |  10131    | 2962.3937 |\n",
       "| Feb       | member    |  39491    | 1081.3251 |\n",
       "| Mar       | casual    |  84032    | 2289.5511 |\n",
       "| Mar       | member    | 144462    |  838.2031 |\n",
       "| Apr       | casual    | 136601    | 2281.3794 |\n",
       "| Apr       | member    | 200624    |  881.3527 |\n",
       "| May       | casual    | 256916    | 2293.8580 |\n",
       "| May       | member    | 274715    |  878.3410 |\n",
       "| Jun       | casual    | 154551    | 3099.9865 |\n",
       "| Jun       | member    | 187985    | 1123.8906 |\n",
       "| Jul       | casual    | 268688    | 3596.9503 |\n",
       "| Jul       | member    | 281047    | 1065.9347 |\n",
       "| Aug       | casual    | 288639    | 2695.8902 |\n",
       "| Aug       | member    | 330953    | 1009.9973 |\n",
       "| Sep       | casual    | 230072    | 2293.1693 |\n",
       "| Sep       | member    | 300754    |  932.4074 |\n",
       "| Oct       | casual    | 144529    | 1815.3117 |\n",
       "| Oct       | member    | 242213    |  842.9632 |\n",
       "| Nov       | casual    |  87911    | 1909.1682 |\n",
       "| Nov       | member    | 170940    |  815.3079 |\n",
       "| Dec       | casual    |  29997    | 1610.9764 |\n",
       "| Dec       | member    | 101142    |  764.9615 |\n",
       "\n"
      ],
      "text/plain": [
       "   month member_casual number_of_rides mean_ride_length\n",
       "1  Jan   casual         18117          1541.0754       \n",
       "2  Jan   member         78715           772.3387       \n",
       "3  Feb   casual         10131          2962.3937       \n",
       "4  Feb   member         39491          1081.3251       \n",
       "5  Mar   casual         84032          2289.5511       \n",
       "6  Mar   member        144462           838.2031       \n",
       "7  Apr   casual        136601          2281.3794       \n",
       "8  Apr   member        200624           881.3527       \n",
       "9  May   casual        256916          2293.8580       \n",
       "10 May   member        274715           878.3410       \n",
       "11 Jun   casual        154551          3099.9865       \n",
       "12 Jun   member        187985          1123.8906       \n",
       "13 Jul   casual        268688          3596.9503       \n",
       "14 Jul   member        281047          1065.9347       \n",
       "15 Aug   casual        288639          2695.8902       \n",
       "16 Aug   member        330953          1009.9973       \n",
       "17 Sep   casual        230072          2293.1693       \n",
       "18 Sep   member        300754           932.4074       \n",
       "19 Oct   casual        144529          1815.3117       \n",
       "20 Oct   member        242213           842.9632       \n",
       "21 Nov   casual         87911          1909.1682       \n",
       "22 Nov   member        170940           815.3079       \n",
       "23 Dec   casual         29997          1610.9764       \n",
       "24 Dec   member        101142           764.9615       "
      ]
     },
     "metadata": {},
     "output_type": "display_data"
    }
   ],
   "source": [
    "by_membership_and_month <- setDT(data)[order(month,member_casual),\n",
    "                                       list(number_of_rides = .N, \n",
    "                                            mean_ride_length = mean(ride_length)),\n",
    "                                       by = 'month,member_casual']\n",
    "by_membership_and_month"
   ]
  },
  {
   "cell_type": "code",
   "execution_count": 17,
   "id": "060ffe57",
   "metadata": {},
   "outputs": [
    {
     "data": {
      "image/png": "[encoded data removed]",
      "text/plain": [
       "plot without title"
      ]
     },
     "metadata": {},
     "output_type": "display_data"
    }
   ],
   "source": [
    "ggplot(data = by_membership_and_month, aes(x = month, y = number_of_rides, fill = member_casual)) + \n",
    "    geom_col(position = \"dodge\") +\n",
    "    labs(title=\"Number of rides by type of membership and month\", x = \"Month\", y = \"Number of rides\") + \n",
    "    scale_fill_discrete(name = \"Type of membership\", labels = c(\"Casual riders\", \"Annual members\")) + \n",
    "    theme_economist()"
   ]
  },
  {
   "cell_type": "markdown",
   "id": "312575e1",
   "metadata": {},
   "source": [
    "###### By membership and day of week"
   ]
  },
  {
   "cell_type": "code",
   "execution_count": 18,
   "id": "58dfbe89",
   "metadata": {},
   "outputs": [
    {
     "data": {
      "text/html": [
       "<table>\n",
       "<thead><tr><th scope=col>member_casual</th><th scope=col>day_of_week</th><th scope=col>number_of_rides</th><th scope=col>mean_ride_length</th><th scope=col>weekday</th></tr></thead>\n",
       "<tbody>\n",
       "\t<tr><td>casual   </td><td>Mon      </td><td>188417   </td><td>2532.9287</td><td>weekday  </td></tr>\n",
       "\t<tr><td>member   </td><td>Mon      </td><td>315487   </td><td> 895.1677</td><td>weekday  </td></tr>\n",
       "\t<tr><td>casual   </td><td>Tue      </td><td>174412   </td><td>2280.1428</td><td>weekday  </td></tr>\n",
       "\t<tr><td>member   </td><td>Tue      </td><td>329416   </td><td> 874.3943</td><td>weekday  </td></tr>\n",
       "\t<tr><td>casual   </td><td>Wed      </td><td>182565   </td><td>2298.7022</td><td>weekday  </td></tr>\n",
       "\t<tr><td>member   </td><td>Wed      </td><td>347184   </td><td> 888.8312</td><td>weekday  </td></tr>\n",
       "\t<tr><td>casual   </td><td>Thu      </td><td>191762   </td><td>2394.4327</td><td>weekday  </td></tr>\n",
       "\t<tr><td>member   </td><td>Thu      </td><td>341971   </td><td> 876.8661</td><td>weekday  </td></tr>\n",
       "\t<tr><td>casual   </td><td>Fri      </td><td>246652   </td><td>2430.1709</td><td>weekday  </td></tr>\n",
       "\t<tr><td>member   </td><td>Fri      </td><td>350586   </td><td> 912.8673</td><td>weekday  </td></tr>\n",
       "\t<tr><td>casual   </td><td>Sat      </td><td>396428   </td><td>2674.0331</td><td>weekend  </td></tr>\n",
       "\t<tr><td>member   </td><td>Sat      </td><td>360579   </td><td>1019.4895</td><td>weekend  </td></tr>\n",
       "\t<tr><td>casual   </td><td>Sun      </td><td>329948   </td><td>2933.4768</td><td>weekend  </td></tr>\n",
       "\t<tr><td>member   </td><td>Sun      </td><td>307818   </td><td>1048.0381</td><td>weekend  </td></tr>\n",
       "</tbody>\n",
       "</table>\n"
      ],
      "text/latex": [
       "\\begin{tabular}{r|lllll}\n",
       " member\\_casual & day\\_of\\_week & number\\_of\\_rides & mean\\_ride\\_length & weekday\\\\\n",
       "\\hline\n",
       "\t casual    & Mon       & 188417    & 2532.9287 & weekday  \\\\\n",
       "\t member    & Mon       & 315487    &  895.1677 & weekday  \\\\\n",
       "\t casual    & Tue       & 174412    & 2280.1428 & weekday  \\\\\n",
       "\t member    & Tue       & 329416    &  874.3943 & weekday  \\\\\n",
       "\t casual    & Wed       & 182565    & 2298.7022 & weekday  \\\\\n",
       "\t member    & Wed       & 347184    &  888.8312 & weekday  \\\\\n",
       "\t casual    & Thu       & 191762    & 2394.4327 & weekday  \\\\\n",
       "\t member    & Thu       & 341971    &  876.8661 & weekday  \\\\\n",
       "\t casual    & Fri       & 246652    & 2430.1709 & weekday  \\\\\n",
       "\t member    & Fri       & 350586    &  912.8673 & weekday  \\\\\n",
       "\t casual    & Sat       & 396428    & 2674.0331 & weekend  \\\\\n",
       "\t member    & Sat       & 360579    & 1019.4895 & weekend  \\\\\n",
       "\t casual    & Sun       & 329948    & 2933.4768 & weekend  \\\\\n",
       "\t member    & Sun       & 307818    & 1048.0381 & weekend  \\\\\n",
       "\\end{tabular}\n"
      ],
      "text/markdown": [
       "\n",
       "| member_casual | day_of_week | number_of_rides | mean_ride_length | weekday |\n",
       "|---|---|---|---|---|\n",
       "| casual    | Mon       | 188417    | 2532.9287 | weekday   |\n",
       "| member    | Mon       | 315487    |  895.1677 | weekday   |\n",
       "| casual    | Tue       | 174412    | 2280.1428 | weekday   |\n",
       "| member    | Tue       | 329416    |  874.3943 | weekday   |\n",
       "| casual    | Wed       | 182565    | 2298.7022 | weekday   |\n",
       "| member    | Wed       | 347184    |  888.8312 | weekday   |\n",
       "| casual    | Thu       | 191762    | 2394.4327 | weekday   |\n",
       "| member    | Thu       | 341971    |  876.8661 | weekday   |\n",
       "| casual    | Fri       | 246652    | 2430.1709 | weekday   |\n",
       "| member    | Fri       | 350586    |  912.8673 | weekday   |\n",
       "| casual    | Sat       | 396428    | 2674.0331 | weekend   |\n",
       "| member    | Sat       | 360579    | 1019.4895 | weekend   |\n",
       "| casual    | Sun       | 329948    | 2933.4768 | weekend   |\n",
       "| member    | Sun       | 307818    | 1048.0381 | weekend   |\n",
       "\n"
      ],
      "text/plain": [
       "   member_casual day_of_week number_of_rides mean_ride_length weekday\n",
       "1  casual        Mon         188417          2532.9287        weekday\n",
       "2  member        Mon         315487           895.1677        weekday\n",
       "3  casual        Tue         174412          2280.1428        weekday\n",
       "4  member        Tue         329416           874.3943        weekday\n",
       "5  casual        Wed         182565          2298.7022        weekday\n",
       "6  member        Wed         347184           888.8312        weekday\n",
       "7  casual        Thu         191762          2394.4327        weekday\n",
       "8  member        Thu         341971           876.8661        weekday\n",
       "9  casual        Fri         246652          2430.1709        weekday\n",
       "10 member        Fri         350586           912.8673        weekday\n",
       "11 casual        Sat         396428          2674.0331        weekend\n",
       "12 member        Sat         360579          1019.4895        weekend\n",
       "13 casual        Sun         329948          2933.4768        weekend\n",
       "14 member        Sun         307818          1048.0381        weekend"
      ]
     },
     "metadata": {},
     "output_type": "display_data"
    }
   ],
   "source": [
    "by_membership_and_dayofweek <- setDT(data)[order(day_of_week,member_casual),\n",
    "                                           list(number_of_rides = .N,\n",
    "                                                mean_ride_length = mean(ride_length)),\n",
    "                                           by = 'member_casual,day_of_week']\n",
    "# Alternatively, this could be done with dplyr pipe operations - but that's much slower with a dataset as large as this one.\n",
    "\n",
    "# create a column for weekday/weekend\n",
    "weekdays <- c('Mon', 'Tue','Wed', 'Thu', 'Fri')\n",
    "by_membership_and_dayofweek <- by_membership_and_dayofweek %>% \n",
    "  mutate(weekday = if_else(day_of_week %in% weekdays, \"weekday\", \"weekend\"))\n",
    "\n",
    "by_membership_and_dayofweek"
   ]
  },
  {
   "cell_type": "code",
   "execution_count": 45,
   "id": "6876a0b0",
   "metadata": {
    "scrolled": false
   },
   "outputs": [
    {
     "data": {
      "image/png": "[encoded data removed]",
      "text/plain": [
       "plot without title"
      ]
     },
     "metadata": {},
     "output_type": "display_data"
    }
   ],
   "source": [
    "ggplot(data = by_membership_and_dayofweek, aes(x = day_of_week, y = number_of_rides, fill = member_casual)) + \n",
    "    geom_col(position = \"dodge\") +\n",
    "    labs(title=\"Number of rides by type of membership and day of the week\", x = \"Day of the week\", y = \"Number of rides\") +\n",
    "    annotate(geom=\"text\",x=6.55,y=4.25e+05, label = \"More trips by casual riders\", color = 'blue', size = 3.5, fontface = 2) +\n",
    "    annotate(geom=\"text\",x=6.5,y=4.1e+05, label =  \"on weekends\", color = 'blue', size = 3.5, fontface = 2) +\n",
    "    scale_fill_discrete(name = \"Type of membership\", labels = c(\"Casual riders\", \"Annual members\")) +\n",
    "    geom_vline(xintercept = 5.5, linetype=\"dashed\", color =\"red\", size = 0.5) +\n",
    "    theme_economist()\n",
    "\n",
    "ggsave(\"myplot.png\", width = 8, height = 8)"
   ]
  },
  {
   "cell_type": "code",
   "execution_count": 20,
   "id": "ee808ffa",
   "metadata": {},
   "outputs": [
    {
     "data": {
      "image/png": "[encoded data removed]",
      "text/plain": [
       "plot without title"
      ]
     },
     "metadata": {},
     "output_type": "display_data"
    }
   ],
   "source": [
    "ggplot(data = by_membership_and_dayofweek, aes(x = weekday, y = number_of_rides, fill = member_casual)) + \n",
    "    geom_col(position = \"dodge\") +\n",
    "    labs(title=\"Number of rides by type of membership and weekday/weekend\", x = \"Weekday/ Weekend\", y = \"Number of rides\") +\n",
    "    scale_fill_discrete(name = \"Type of membership\", labels = c(\"Casual riders\", \"Annual members\")) +\n",
    "    theme_economist()"
   ]
  },
  {
   "cell_type": "code",
   "execution_count": 21,
   "id": "d36e440a",
   "metadata": {},
   "outputs": [
    {
     "data": {
      "image/png": "[encoded data removed]",
      "text/plain": [
       "plot without title"
      ]
     },
     "metadata": {},
     "output_type": "display_data"
    }
   ],
   "source": [
    "ggplot(data = by_membership_and_dayofweek, aes(x = day_of_week, y = mean_ride_length, fill = member_casual)) + \n",
    "    geom_col(position = \"dodge\") + \n",
    "    labs(title=\"Ride duration by type of membership and day of the week\", x = \"Day of the week\", y = \"Average ride duration (seconds)\") +\n",
    "    scale_fill_discrete(name = \"Type of membership\", labels = c(\"Casual riders\", \"Annual members\")) +\n",
    "    theme_economist()"
   ]
  },
  {
   "cell_type": "markdown",
   "id": "b6aae7be",
   "metadata": {},
   "source": [
    "###### By membership and hour"
   ]
  },
  {
   "cell_type": "code",
   "execution_count": 22,
   "id": "6e12b976",
   "metadata": {},
   "outputs": [
    {
     "data": {
      "text/html": [
       "<table>\n",
       "<thead><tr><th scope=col>member_casual</th><th scope=col>hour</th><th scope=col>number_of_rides</th><th scope=col>mean_ride_length</th></tr></thead>\n",
       "<tbody>\n",
       "\t<tr><td>casual   </td><td> 0       </td><td> 29401   </td><td>3506.1261</td></tr>\n",
       "\t<tr><td>member   </td><td> 0       </td><td> 16354   </td><td> 953.5084</td></tr>\n",
       "\t<tr><td>casual   </td><td> 1       </td><td> 18965   </td><td>4073.3859</td></tr>\n",
       "\t<tr><td>member   </td><td> 1       </td><td>  9456   </td><td>1012.5948</td></tr>\n",
       "\t<tr><td>casual   </td><td> 2       </td><td> 10179   </td><td>4261.7261</td></tr>\n",
       "\t<tr><td>member   </td><td> 2       </td><td>  4884   </td><td> 855.1620</td></tr>\n",
       "\t<tr><td>casual   </td><td> 3       </td><td>  5477   </td><td>5137.1225</td></tr>\n",
       "\t<tr><td>member   </td><td> 3       </td><td>  2977   </td><td> 849.2123</td></tr>\n",
       "\t<tr><td>casual   </td><td> 4       </td><td>  4352   </td><td>5281.2656</td></tr>\n",
       "\t<tr><td>member   </td><td> 4       </td><td>  4361   </td><td> 889.0025</td></tr>\n",
       "\t<tr><td>casual   </td><td> 5       </td><td>  6487   </td><td>2681.9217</td></tr>\n",
       "\t<tr><td>member   </td><td> 5       </td><td> 20482   </td><td> 773.2510</td></tr>\n",
       "\t<tr><td>casual   </td><td> 6       </td><td> 15077   </td><td>2052.0104</td></tr>\n",
       "\t<tr><td>member   </td><td> 6       </td><td> 63797   </td><td> 833.2108</td></tr>\n",
       "\t<tr><td>casual   </td><td> 7       </td><td> 27052   </td><td>1609.2390</td></tr>\n",
       "\t<tr><td>member   </td><td> 7       </td><td>109822   </td><td> 835.8841</td></tr>\n",
       "\t<tr><td>casual   </td><td> 8       </td><td> 37764   </td><td>1765.9483</td></tr>\n",
       "\t<tr><td>member   </td><td> 8       </td><td>119742   </td><td> 845.1007</td></tr>\n",
       "\t<tr><td>casual   </td><td> 9       </td><td> 48664   </td><td>2272.9512</td></tr>\n",
       "\t<tr><td>member   </td><td> 9       </td><td>100205   </td><td> 872.7905</td></tr>\n",
       "\t<tr><td>casual   </td><td>10       </td><td> 70000   </td><td>2391.7725</td></tr>\n",
       "\t<tr><td>member   </td><td>10       </td><td>105196   </td><td> 916.7163</td></tr>\n",
       "\t<tr><td>casual   </td><td>11       </td><td> 95077   </td><td>2448.3772</td></tr>\n",
       "\t<tr><td>member   </td><td>11       </td><td>129631   </td><td> 927.7880</td></tr>\n",
       "\t<tr><td>casual   </td><td>12       </td><td>116370   </td><td>2500.1229</td></tr>\n",
       "\t<tr><td>member   </td><td>12       </td><td>152025   </td><td> 908.1157</td></tr>\n",
       "\t<tr><td>casual   </td><td>13       </td><td>125413   </td><td>2535.5882</td></tr>\n",
       "\t<tr><td>member   </td><td>13       </td><td>150723   </td><td> 942.0990</td></tr>\n",
       "\t<tr><td>casual   </td><td>14       </td><td>133270   </td><td>2682.3686</td></tr>\n",
       "\t<tr><td>member   </td><td>14       </td><td>150474   </td><td> 980.3750</td></tr>\n",
       "\t<tr><td>casual   </td><td>15       </td><td>140261   </td><td>2472.2639</td></tr>\n",
       "\t<tr><td>member   </td><td>15       </td><td>168114   </td><td> 981.0625</td></tr>\n",
       "\t<tr><td>casual   </td><td>16       </td><td>150728   </td><td>2478.3806</td></tr>\n",
       "\t<tr><td>member   </td><td>16       </td><td>203909   </td><td> 951.3837</td></tr>\n",
       "\t<tr><td>casual   </td><td>17       </td><td>168217   </td><td>2280.4056</td></tr>\n",
       "\t<tr><td>member   </td><td>17       </td><td>248436   </td><td> 959.5998</td></tr>\n",
       "\t<tr><td>casual   </td><td>18       </td><td>150891   </td><td>2339.8089</td></tr>\n",
       "\t<tr><td>member   </td><td>18       </td><td>216176   </td><td> 968.9924</td></tr>\n",
       "\t<tr><td>casual   </td><td>19       </td><td>114950   </td><td>2489.3905</td></tr>\n",
       "\t<tr><td>member   </td><td>19       </td><td>151510   </td><td> 958.0600</td></tr>\n",
       "\t<tr><td>casual   </td><td>20       </td><td> 81424   </td><td>2966.2481</td></tr>\n",
       "\t<tr><td>member   </td><td>20       </td><td> 94583   </td><td> 961.9667</td></tr>\n",
       "\t<tr><td>casual   </td><td>21       </td><td> 61101   </td><td>2879.7985</td></tr>\n",
       "\t<tr><td>member   </td><td>21       </td><td> 58832   </td><td> 908.4639</td></tr>\n",
       "\t<tr><td>casual   </td><td>22       </td><td> 54982   </td><td>2895.6077</td></tr>\n",
       "\t<tr><td>member   </td><td>22       </td><td> 42099   </td><td> 884.5550</td></tr>\n",
       "\t<tr><td>casual   </td><td>23       </td><td> 44082   </td><td>3417.8045</td></tr>\n",
       "\t<tr><td>member   </td><td>23       </td><td> 29253   </td><td> 890.7050</td></tr>\n",
       "</tbody>\n",
       "</table>\n"
      ],
      "text/latex": [
       "\\begin{tabular}{r|llll}\n",
       " member\\_casual & hour & number\\_of\\_rides & mean\\_ride\\_length\\\\\n",
       "\\hline\n",
       "\t casual    &  0        &  29401    & 3506.1261\\\\\n",
       "\t member    &  0        &  16354    &  953.5084\\\\\n",
       "\t casual    &  1        &  18965    & 4073.3859\\\\\n",
       "\t member    &  1        &   9456    & 1012.5948\\\\\n",
       "\t casual    &  2        &  10179    & 4261.7261\\\\\n",
       "\t member    &  2        &   4884    &  855.1620\\\\\n",
       "\t casual    &  3        &   5477    & 5137.1225\\\\\n",
       "\t member    &  3        &   2977    &  849.2123\\\\\n",
       "\t casual    &  4        &   4352    & 5281.2656\\\\\n",
       "\t member    &  4        &   4361    &  889.0025\\\\\n",
       "\t casual    &  5        &   6487    & 2681.9217\\\\\n",
       "\t member    &  5        &  20482    &  773.2510\\\\\n",
       "\t casual    &  6        &  15077    & 2052.0104\\\\\n",
       "\t member    &  6        &  63797    &  833.2108\\\\\n",
       "\t casual    &  7        &  27052    & 1609.2390\\\\\n",
       "\t member    &  7        & 109822    &  835.8841\\\\\n",
       "\t casual    &  8        &  37764    & 1765.9483\\\\\n",
       "\t member    &  8        & 119742    &  845.1007\\\\\n",
       "\t casual    &  9        &  48664    & 2272.9512\\\\\n",
       "\t member    &  9        & 100205    &  872.7905\\\\\n",
       "\t casual    & 10        &  70000    & 2391.7725\\\\\n",
       "\t member    & 10        & 105196    &  916.7163\\\\\n",
       "\t casual    & 11        &  95077    & 2448.3772\\\\\n",
       "\t member    & 11        & 129631    &  927.7880\\\\\n",
       "\t casual    & 12        & 116370    & 2500.1229\\\\\n",
       "\t member    & 12        & 152025    &  908.1157\\\\\n",
       "\t casual    & 13        & 125413    & 2535.5882\\\\\n",
       "\t member    & 13        & 150723    &  942.0990\\\\\n",
       "\t casual    & 14        & 133270    & 2682.3686\\\\\n",
       "\t member    & 14        & 150474    &  980.3750\\\\\n",
       "\t casual    & 15        & 140261    & 2472.2639\\\\\n",
       "\t member    & 15        & 168114    &  981.0625\\\\\n",
       "\t casual    & 16        & 150728    & 2478.3806\\\\\n",
       "\t member    & 16        & 203909    &  951.3837\\\\\n",
       "\t casual    & 17        & 168217    & 2280.4056\\\\\n",
       "\t member    & 17        & 248436    &  959.5998\\\\\n",
       "\t casual    & 18        & 150891    & 2339.8089\\\\\n",
       "\t member    & 18        & 216176    &  968.9924\\\\\n",
       "\t casual    & 19        & 114950    & 2489.3905\\\\\n",
       "\t member    & 19        & 151510    &  958.0600\\\\\n",
       "\t casual    & 20        &  81424    & 2966.2481\\\\\n",
       "\t member    & 20        &  94583    &  961.9667\\\\\n",
       "\t casual    & 21        &  61101    & 2879.7985\\\\\n",
       "\t member    & 21        &  58832    &  908.4639\\\\\n",
       "\t casual    & 22        &  54982    & 2895.6077\\\\\n",
       "\t member    & 22        &  42099    &  884.5550\\\\\n",
       "\t casual    & 23        &  44082    & 3417.8045\\\\\n",
       "\t member    & 23        &  29253    &  890.7050\\\\\n",
       "\\end{tabular}\n"
      ],
      "text/markdown": [
       "\n",
       "| member_casual | hour | number_of_rides | mean_ride_length |\n",
       "|---|---|---|---|\n",
       "| casual    |  0        |  29401    | 3506.1261 |\n",
       "| member    |  0        |  16354    |  953.5084 |\n",
       "| casual    |  1        |  18965    | 4073.3859 |\n",
       "| member    |  1        |   9456    | 1012.5948 |\n",
       "| casual    |  2        |  10179    | 4261.7261 |\n",
       "| member    |  2        |   4884    |  855.1620 |\n",
       "| casual    |  3        |   5477    | 5137.1225 |\n",
       "| member    |  3        |   2977    |  849.2123 |\n",
       "| casual    |  4        |   4352    | 5281.2656 |\n",
       "| member    |  4        |   4361    |  889.0025 |\n",
       "| casual    |  5        |   6487    | 2681.9217 |\n",
       "| member    |  5        |  20482    |  773.2510 |\n",
       "| casual    |  6        |  15077    | 2052.0104 |\n",
       "| member    |  6        |  63797    |  833.2108 |\n",
       "| casual    |  7        |  27052    | 1609.2390 |\n",
       "| member    |  7        | 109822    |  835.8841 |\n",
       "| casual    |  8        |  37764    | 1765.9483 |\n",
       "| member    |  8        | 119742    |  845.1007 |\n",
       "| casual    |  9        |  48664    | 2272.9512 |\n",
       "| member    |  9        | 100205    |  872.7905 |\n",
       "| casual    | 10        |  70000    | 2391.7725 |\n",
       "| member    | 10        | 105196    |  916.7163 |\n",
       "| casual    | 11        |  95077    | 2448.3772 |\n",
       "| member    | 11        | 129631    |  927.7880 |\n",
       "| casual    | 12        | 116370    | 2500.1229 |\n",
       "| member    | 12        | 152025    |  908.1157 |\n",
       "| casual    | 13        | 125413    | 2535.5882 |\n",
       "| member    | 13        | 150723    |  942.0990 |\n",
       "| casual    | 14        | 133270    | 2682.3686 |\n",
       "| member    | 14        | 150474    |  980.3750 |\n",
       "| casual    | 15        | 140261    | 2472.2639 |\n",
       "| member    | 15        | 168114    |  981.0625 |\n",
       "| casual    | 16        | 150728    | 2478.3806 |\n",
       "| member    | 16        | 203909    |  951.3837 |\n",
       "| casual    | 17        | 168217    | 2280.4056 |\n",
       "| member    | 17        | 248436    |  959.5998 |\n",
       "| casual    | 18        | 150891    | 2339.8089 |\n",
       "| member    | 18        | 216176    |  968.9924 |\n",
       "| casual    | 19        | 114950    | 2489.3905 |\n",
       "| member    | 19        | 151510    |  958.0600 |\n",
       "| casual    | 20        |  81424    | 2966.2481 |\n",
       "| member    | 20        |  94583    |  961.9667 |\n",
       "| casual    | 21        |  61101    | 2879.7985 |\n",
       "| member    | 21        |  58832    |  908.4639 |\n",
       "| casual    | 22        |  54982    | 2895.6077 |\n",
       "| member    | 22        |  42099    |  884.5550 |\n",
       "| casual    | 23        |  44082    | 3417.8045 |\n",
       "| member    | 23        |  29253    |  890.7050 |\n",
       "\n"
      ],
      "text/plain": [
       "   member_casual hour number_of_rides mean_ride_length\n",
       "1  casual         0    29401          3506.1261       \n",
       "2  member         0    16354           953.5084       \n",
       "3  casual         1    18965          4073.3859       \n",
       "4  member         1     9456          1012.5948       \n",
       "5  casual         2    10179          4261.7261       \n",
       "6  member         2     4884           855.1620       \n",
       "7  casual         3     5477          5137.1225       \n",
       "8  member         3     2977           849.2123       \n",
       "9  casual         4     4352          5281.2656       \n",
       "10 member         4     4361           889.0025       \n",
       "11 casual         5     6487          2681.9217       \n",
       "12 member         5    20482           773.2510       \n",
       "13 casual         6    15077          2052.0104       \n",
       "14 member         6    63797           833.2108       \n",
       "15 casual         7    27052          1609.2390       \n",
       "16 member         7   109822           835.8841       \n",
       "17 casual         8    37764          1765.9483       \n",
       "18 member         8   119742           845.1007       \n",
       "19 casual         9    48664          2272.9512       \n",
       "20 member         9   100205           872.7905       \n",
       "21 casual        10    70000          2391.7725       \n",
       "22 member        10   105196           916.7163       \n",
       "23 casual        11    95077          2448.3772       \n",
       "24 member        11   129631           927.7880       \n",
       "25 casual        12   116370          2500.1229       \n",
       "26 member        12   152025           908.1157       \n",
       "27 casual        13   125413          2535.5882       \n",
       "28 member        13   150723           942.0990       \n",
       "29 casual        14   133270          2682.3686       \n",
       "30 member        14   150474           980.3750       \n",
       "31 casual        15   140261          2472.2639       \n",
       "32 member        15   168114           981.0625       \n",
       "33 casual        16   150728          2478.3806       \n",
       "34 member        16   203909           951.3837       \n",
       "35 casual        17   168217          2280.4056       \n",
       "36 member        17   248436           959.5998       \n",
       "37 casual        18   150891          2339.8089       \n",
       "38 member        18   216176           968.9924       \n",
       "39 casual        19   114950          2489.3905       \n",
       "40 member        19   151510           958.0600       \n",
       "41 casual        20    81424          2966.2481       \n",
       "42 member        20    94583           961.9667       \n",
       "43 casual        21    61101          2879.7985       \n",
       "44 member        21    58832           908.4639       \n",
       "45 casual        22    54982          2895.6077       \n",
       "46 member        22    42099           884.5550       \n",
       "47 casual        23    44082          3417.8045       \n",
       "48 member        23    29253           890.7050       "
      ]
     },
     "metadata": {},
     "output_type": "display_data"
    }
   ],
   "source": [
    "by_membership_and_hour <- setDT(data)[order(hour,member_casual),\n",
    "                                      list(number_of_rides = .N, mean_ride_length = mean(ride_length)),\n",
    "                                      by = 'member_casual,hour']\n",
    "\n",
    "by_membership_and_hour"
   ]
  },
  {
   "cell_type": "code",
   "execution_count": 23,
   "id": "beed2c4c",
   "metadata": {},
   "outputs": [
    {
     "data": {
      "text/html": [
       "<table>\n",
       "<thead><tr><th scope=col>member_casual</th><th scope=col>max_ride_length</th><th scope=col>min_ride_length</th></tr></thead>\n",
       "<tbody>\n",
       "\t<tr><td>casual  </td><td>5281.266</td><td>1609.239</td></tr>\n",
       "\t<tr><td>member  </td><td>1012.595</td><td> 773.251</td></tr>\n",
       "</tbody>\n",
       "</table>\n"
      ],
      "text/latex": [
       "\\begin{tabular}{r|lll}\n",
       " member\\_casual & max\\_ride\\_length & min\\_ride\\_length\\\\\n",
       "\\hline\n",
       "\t casual   & 5281.266 & 1609.239\\\\\n",
       "\t member   & 1012.595 &  773.251\\\\\n",
       "\\end{tabular}\n"
      ],
      "text/markdown": [
       "\n",
       "| member_casual | max_ride_length | min_ride_length |\n",
       "|---|---|---|\n",
       "| casual   | 5281.266 | 1609.239 |\n",
       "| member   | 1012.595 |  773.251 |\n",
       "\n"
      ],
      "text/plain": [
       "  member_casual max_ride_length min_ride_length\n",
       "1 casual        5281.266        1609.239       \n",
       "2 member        1012.595         773.251       "
      ]
     },
     "metadata": {},
     "output_type": "display_data"
    }
   ],
   "source": [
    "by_membership_and_hour  %>% \n",
    "    group_by(member_casual)  %>% \n",
    "    summarize(max_ride_length = max(mean_ride_length),\n",
    "             min_ride_length = min(mean_ride_length))"
   ]
  },
  {
   "cell_type": "code",
   "execution_count": 24,
   "id": "451bc6db",
   "metadata": {},
   "outputs": [
    {
     "data": {
      "image/png": "[encoded data removed]",
      "text/plain": [
       "plot without title"
      ]
     },
     "metadata": {},
     "output_type": "display_data"
    }
   ],
   "source": [
    "ggplot(data = by_membership_and_hour, aes(x = hour, y = number_of_rides, color = member_casual)) + \n",
    "    geom_line() + \n",
    "    geom_point() +\n",
    "    labs(title=\"Number of rides by type of membership and hour\", x = \"Hour\", y = \"Number of rides\") + \n",
    "    scale_x_continuous(breaks = scales::pretty_breaks(n = 23),expand = c(0, 0)) + \n",
    "    scale_y_continuous(breaks = scales::pretty_breaks(n = 10)) +\n",
    "    scale_color_discrete(name = \"Type of membership\", labels = c(\"Casual riders\", \"Annual members\")) +\n",
    "    theme_economist()"
   ]
  },
  {
   "cell_type": "markdown",
   "id": "4a3727d6",
   "metadata": {},
   "source": [
    "###### By membership and station"
   ]
  },
  {
   "cell_type": "code",
   "execution_count": 25,
   "id": "164a8f4f",
   "metadata": {},
   "outputs": [
    {
     "data": {
      "text/html": [
       "<table>\n",
       "<thead><tr><th scope=col>start_station_name</th><th scope=col>member_casual</th><th scope=col>number_of_rides</th></tr></thead>\n",
       "<tbody>\n",
       "\t<tr><td>2112 W Peterson Ave</td><td>casual             </td><td> 329               </td></tr>\n",
       "\t<tr><td>2112 W Peterson Ave</td><td>member             </td><td> 663               </td></tr>\n",
       "\t<tr><td>63rd St Beach      </td><td>casual             </td><td>1894               </td></tr>\n",
       "\t<tr><td>63rd St Beach      </td><td>member             </td><td> 967               </td></tr>\n",
       "\t<tr><td>900 W Harrison St  </td><td>casual             </td><td>1517               </td></tr>\n",
       "\t<tr><td>900 W Harrison St  </td><td>member             </td><td>3010               </td></tr>\n",
       "</tbody>\n",
       "</table>\n"
      ],
      "text/latex": [
       "\\begin{tabular}{r|lll}\n",
       " start\\_station\\_name & member\\_casual & number\\_of\\_rides\\\\\n",
       "\\hline\n",
       "\t 2112 W Peterson Ave & casual              &  329               \\\\\n",
       "\t 2112 W Peterson Ave & member              &  663               \\\\\n",
       "\t 63rd St Beach       & casual              & 1894               \\\\\n",
       "\t 63rd St Beach       & member              &  967               \\\\\n",
       "\t 900 W Harrison St   & casual              & 1517               \\\\\n",
       "\t 900 W Harrison St   & member              & 3010               \\\\\n",
       "\\end{tabular}\n"
      ],
      "text/markdown": [
       "\n",
       "| start_station_name | member_casual | number_of_rides |\n",
       "|---|---|---|\n",
       "| 2112 W Peterson Ave | casual              |  329                |\n",
       "| 2112 W Peterson Ave | member              |  663                |\n",
       "| 63rd St Beach       | casual              | 1894                |\n",
       "| 63rd St Beach       | member              |  967                |\n",
       "| 900 W Harrison St   | casual              | 1517                |\n",
       "| 900 W Harrison St   | member              | 3010                |\n",
       "\n"
      ],
      "text/plain": [
       "  start_station_name  member_casual number_of_rides\n",
       "1 2112 W Peterson Ave casual         329           \n",
       "2 2112 W Peterson Ave member         663           \n",
       "3 63rd St Beach       casual        1894           \n",
       "4 63rd St Beach       member         967           \n",
       "5 900 W Harrison St   casual        1517           \n",
       "6 900 W Harrison St   member        3010           "
      ]
     },
     "metadata": {},
     "output_type": "display_data"
    }
   ],
   "source": [
    "by_membership_and_start_station <- setDT(data[start_station_name != 'NA'])[order(start_station_name,member_casual),\n",
    "                                      list(number_of_rides = .N),\n",
    "                                      by = 'start_station_name,member_casual']\n",
    "head(by_membership_and_start_station)"
   ]
  },
  {
   "cell_type": "code",
   "execution_count": 26,
   "id": "d5254be7",
   "metadata": {},
   "outputs": [
    {
     "data": {
      "text/html": [
       "<table>\n",
       "<thead><tr><th scope=col>start_station_name</th><th scope=col>member_casual</th><th scope=col>number_of_rides</th></tr></thead>\n",
       "<tbody>\n",
       "\t<tr><td><span style=white-space:pre-wrap>Streeter Dr &amp; Grand Ave   </span></td><td>casual                                                                </td><td>36560                                                                 </td></tr>\n",
       "\t<tr><td>Lake Shore Dr &amp; Monroe St </td><td>casual                        </td><td>28233                         </td></tr>\n",
       "\t<tr><td>Millennium Park           </td><td>casual                    </td><td>24809                     </td></tr>\n",
       "\t<tr><td>Theater on the Lake       </td><td>casual                    </td><td>18565                     </td></tr>\n",
       "\t<tr><td><span style=white-space:pre-wrap>Michigan Ave &amp; Oak St     </span></td><td>casual                                                                </td><td>18362                                                                 </td></tr>\n",
       "\t<tr><td>Lake Shore Dr &amp; North Blvd</td><td>casual                        </td><td>16869                         </td></tr>\n",
       "\t<tr><td>Indiana Ave &amp; Roosevelt Rd</td><td>casual                        </td><td>15885                         </td></tr>\n",
       "\t<tr><td><span style=white-space:pre-wrap>Michigan Ave &amp; Lake St    </span></td><td>casual                                                                </td><td>13927                                                                 </td></tr>\n",
       "\t<tr><td>Shedd Aquarium            </td><td>casual                    </td><td>13869                     </td></tr>\n",
       "\t<tr><td><span style=white-space:pre-wrap>Clark St &amp; Elm St         </span></td><td>casual                                                                </td><td>13352                                                                 </td></tr>\n",
       "</tbody>\n",
       "</table>\n"
      ],
      "text/latex": [
       "\\begin{tabular}{r|lll}\n",
       " start\\_station\\_name & member\\_casual & number\\_of\\_rides\\\\\n",
       "\\hline\n",
       "\t Streeter Dr \\& Grand Ave    & casual                       & 36560                       \\\\\n",
       "\t Lake Shore Dr \\& Monroe St  & casual                       & 28233                       \\\\\n",
       "\t Millennium Park            & casual                     & 24809                     \\\\\n",
       "\t Theater on the Lake        & casual                     & 18565                     \\\\\n",
       "\t Michigan Ave \\& Oak St      & casual                       & 18362                       \\\\\n",
       "\t Lake Shore Dr \\& North Blvd & casual                       & 16869                       \\\\\n",
       "\t Indiana Ave \\& Roosevelt Rd & casual                       & 15885                       \\\\\n",
       "\t Michigan Ave \\& Lake St     & casual                       & 13927                       \\\\\n",
       "\t Shedd Aquarium             & casual                     & 13869                     \\\\\n",
       "\t Clark St \\& Elm St          & casual                       & 13352                       \\\\\n",
       "\\end{tabular}\n"
      ],
      "text/markdown": [
       "\n",
       "| start_station_name | member_casual | number_of_rides |\n",
       "|---|---|---|\n",
       "| Streeter Dr & Grand Ave    | casual                     | 36560                      |\n",
       "| Lake Shore Dr & Monroe St  | casual                     | 28233                      |\n",
       "| Millennium Park            | casual                     | 24809                      |\n",
       "| Theater on the Lake        | casual                     | 18565                      |\n",
       "| Michigan Ave & Oak St      | casual                     | 18362                      |\n",
       "| Lake Shore Dr & North Blvd | casual                     | 16869                      |\n",
       "| Indiana Ave & Roosevelt Rd | casual                     | 15885                      |\n",
       "| Michigan Ave & Lake St     | casual                     | 13927                      |\n",
       "| Shedd Aquarium             | casual                     | 13869                      |\n",
       "| Clark St & Elm St          | casual                     | 13352                      |\n",
       "\n"
      ],
      "text/plain": [
       "   start_station_name         member_casual number_of_rides\n",
       "1  Streeter Dr & Grand Ave    casual        36560          \n",
       "2  Lake Shore Dr & Monroe St  casual        28233          \n",
       "3  Millennium Park            casual        24809          \n",
       "4  Theater on the Lake        casual        18565          \n",
       "5  Michigan Ave & Oak St      casual        18362          \n",
       "6  Lake Shore Dr & North Blvd casual        16869          \n",
       "7  Indiana Ave & Roosevelt Rd casual        15885          \n",
       "8  Michigan Ave & Lake St     casual        13927          \n",
       "9  Shedd Aquarium             casual        13869          \n",
       "10 Clark St & Elm St          casual        13352          "
      ]
     },
     "metadata": {},
     "output_type": "display_data"
    }
   ],
   "source": [
    "top_start_station_casual <- head(by_membership_and_start_station[member_casual == 'casual'][order(-number_of_rides)], 10)\n",
    "top_start_station_casual"
   ]
  },
  {
   "cell_type": "code",
   "execution_count": 27,
   "id": "f3e33ad8",
   "metadata": {},
   "outputs": [
    {
     "data": {
      "text/html": [
       "<table>\n",
       "<thead><tr><th scope=col>start_station_name</th><th scope=col>member_casual</th><th scope=col>number_of_rides</th></tr></thead>\n",
       "<tbody>\n",
       "\t<tr><td><span style=white-space:pre-wrap>Clark St &amp; Elm St         </span></td><td>member                                                                </td><td>22635                                                                 </td></tr>\n",
       "\t<tr><td><span style=white-space:pre-wrap>Wells St &amp; Concord Ln     </span></td><td>member                                                                </td><td>17680                                                                 </td></tr>\n",
       "\t<tr><td>Theater on the Lake       </td><td>member                    </td><td>17373                     </td></tr>\n",
       "\t<tr><td><span style=white-space:pre-wrap>Broadway &amp; Barry Ave      </span></td><td>member                                                                </td><td>17309                                                                 </td></tr>\n",
       "\t<tr><td><span style=white-space:pre-wrap>Dearborn St &amp; Erie St     </span></td><td>member                                                                </td><td>17186                                                                 </td></tr>\n",
       "\t<tr><td><span style=white-space:pre-wrap>Kingsbury St &amp; Kinzie St  </span></td><td>member                                                                </td><td>17084                                                                 </td></tr>\n",
       "\t<tr><td><span style=white-space:pre-wrap>St. Clair St &amp; Erie St    </span></td><td>member                                                                </td><td>16772                                                                 </td></tr>\n",
       "\t<tr><td><span style=white-space:pre-wrap>Wells St &amp; Elm St         </span></td><td>member                                                                </td><td>16522                                                                 </td></tr>\n",
       "\t<tr><td><span style=white-space:pre-wrap>Wells St &amp; Huron St       </span></td><td>member                                                                </td><td>16114                                                                 </td></tr>\n",
       "\t<tr><td>Lake Shore Dr &amp; North Blvd</td><td>member                        </td><td>15533                         </td></tr>\n",
       "</tbody>\n",
       "</table>\n"
      ],
      "text/latex": [
       "\\begin{tabular}{r|lll}\n",
       " start\\_station\\_name & member\\_casual & number\\_of\\_rides\\\\\n",
       "\\hline\n",
       "\t Clark St \\& Elm St          & member                       & 22635                       \\\\\n",
       "\t Wells St \\& Concord Ln      & member                       & 17680                       \\\\\n",
       "\t Theater on the Lake        & member                     & 17373                     \\\\\n",
       "\t Broadway \\& Barry Ave       & member                       & 17309                       \\\\\n",
       "\t Dearborn St \\& Erie St      & member                       & 17186                       \\\\\n",
       "\t Kingsbury St \\& Kinzie St   & member                       & 17084                       \\\\\n",
       "\t St. Clair St \\& Erie St     & member                       & 16772                       \\\\\n",
       "\t Wells St \\& Elm St          & member                       & 16522                       \\\\\n",
       "\t Wells St \\& Huron St        & member                       & 16114                       \\\\\n",
       "\t Lake Shore Dr \\& North Blvd & member                       & 15533                       \\\\\n",
       "\\end{tabular}\n"
      ],
      "text/markdown": [
       "\n",
       "| start_station_name | member_casual | number_of_rides |\n",
       "|---|---|---|\n",
       "| Clark St & Elm St          | member                     | 22635                      |\n",
       "| Wells St & Concord Ln      | member                     | 17680                      |\n",
       "| Theater on the Lake        | member                     | 17373                      |\n",
       "| Broadway & Barry Ave       | member                     | 17309                      |\n",
       "| Dearborn St & Erie St      | member                     | 17186                      |\n",
       "| Kingsbury St & Kinzie St   | member                     | 17084                      |\n",
       "| St. Clair St & Erie St     | member                     | 16772                      |\n",
       "| Wells St & Elm St          | member                     | 16522                      |\n",
       "| Wells St & Huron St        | member                     | 16114                      |\n",
       "| Lake Shore Dr & North Blvd | member                     | 15533                      |\n",
       "\n"
      ],
      "text/plain": [
       "   start_station_name         member_casual number_of_rides\n",
       "1  Clark St & Elm St          member        22635          \n",
       "2  Wells St & Concord Ln      member        17680          \n",
       "3  Theater on the Lake        member        17373          \n",
       "4  Broadway & Barry Ave       member        17309          \n",
       "5  Dearborn St & Erie St      member        17186          \n",
       "6  Kingsbury St & Kinzie St   member        17084          \n",
       "7  St. Clair St & Erie St     member        16772          \n",
       "8  Wells St & Elm St          member        16522          \n",
       "9  Wells St & Huron St        member        16114          \n",
       "10 Lake Shore Dr & North Blvd member        15533          "
      ]
     },
     "metadata": {},
     "output_type": "display_data"
    }
   ],
   "source": [
    "top_start_station_member <- head(by_membership_and_start_station[member_casual == 'member'][order(-number_of_rides)], 10)\n",
    "top_start_station_member"
   ]
  },
  {
   "cell_type": "code",
   "execution_count": 28,
   "id": "9ca91e78",
   "metadata": {},
   "outputs": [
    {
     "data": {
      "image/png": "[encoded data removed]",
      "text/plain": [
       "plot without title"
      ]
     },
     "metadata": {},
     "output_type": "display_data"
    }
   ],
   "source": [
    "ggplot(data = top_start_station_casual, \n",
    "       aes (x = reorder(start_station_name, -number_of_rides),\n",
    "            y = number_of_rides, fill = member_casual)) +\n",
    "    geom_col() + \n",
    "    labs(title=\"Most popular start stations for casual riders\", \n",
    "         x = \"\", y = \"Number of rides\") +\n",
    "    scale_fill_discrete(name = \"Type of membership\", \n",
    "                        labels = c(\"Casual riders\", \"Annual members\")) +\n",
    "    theme_economist() + \n",
    "    theme(axis.text.x = element_text(angle = 90),\n",
    "         axis.line=element_blank(),\n",
    "         axis.ticks.x = element_blank())"
   ]
  },
  {
   "cell_type": "code",
   "execution_count": 29,
   "id": "28643424",
   "metadata": {},
   "outputs": [
    {
     "data": {
      "text/html": [
       "<table>\n",
       "<thead><tr><th scope=col>end_station_name</th><th scope=col>member_casual</th><th scope=col>number_of_rides</th></tr></thead>\n",
       "<tbody>\n",
       "\t<tr><td>2112 W Peterson Ave</td><td>casual             </td><td> 337               </td></tr>\n",
       "\t<tr><td>2112 W Peterson Ave</td><td>member             </td><td> 719               </td></tr>\n",
       "\t<tr><td>63rd St Beach      </td><td>casual             </td><td>1847               </td></tr>\n",
       "\t<tr><td>63rd St Beach      </td><td>member             </td><td>1030               </td></tr>\n",
       "\t<tr><td>900 W Harrison St  </td><td>casual             </td><td>1480               </td></tr>\n",
       "\t<tr><td>900 W Harrison St  </td><td>member             </td><td>3010               </td></tr>\n",
       "</tbody>\n",
       "</table>\n"
      ],
      "text/latex": [
       "\\begin{tabular}{r|lll}\n",
       " end\\_station\\_name & member\\_casual & number\\_of\\_rides\\\\\n",
       "\\hline\n",
       "\t 2112 W Peterson Ave & casual              &  337               \\\\\n",
       "\t 2112 W Peterson Ave & member              &  719               \\\\\n",
       "\t 63rd St Beach       & casual              & 1847               \\\\\n",
       "\t 63rd St Beach       & member              & 1030               \\\\\n",
       "\t 900 W Harrison St   & casual              & 1480               \\\\\n",
       "\t 900 W Harrison St   & member              & 3010               \\\\\n",
       "\\end{tabular}\n"
      ],
      "text/markdown": [
       "\n",
       "| end_station_name | member_casual | number_of_rides |\n",
       "|---|---|---|\n",
       "| 2112 W Peterson Ave | casual              |  337                |\n",
       "| 2112 W Peterson Ave | member              |  719                |\n",
       "| 63rd St Beach       | casual              | 1847                |\n",
       "| 63rd St Beach       | member              | 1030                |\n",
       "| 900 W Harrison St   | casual              | 1480                |\n",
       "| 900 W Harrison St   | member              | 3010                |\n",
       "\n"
      ],
      "text/plain": [
       "  end_station_name    member_casual number_of_rides\n",
       "1 2112 W Peterson Ave casual         337           \n",
       "2 2112 W Peterson Ave member         719           \n",
       "3 63rd St Beach       casual        1847           \n",
       "4 63rd St Beach       member        1030           \n",
       "5 900 W Harrison St   casual        1480           \n",
       "6 900 W Harrison St   member        3010           "
      ]
     },
     "metadata": {},
     "output_type": "display_data"
    }
   ],
   "source": [
    "by_membership_and_end_station <- setDT(data[end_station_name != 'NA'])[order(end_station_name,member_casual),\n",
    "                                      list(number_of_rides = .N),\n",
    "                                      by = 'end_station_name,member_casual']\n",
    "head(by_membership_and_end_station)"
   ]
  },
  {
   "cell_type": "code",
   "execution_count": 30,
   "id": "a7e4ce0c",
   "metadata": {},
   "outputs": [
    {
     "data": {
      "text/html": [
       "<table>\n",
       "<thead><tr><th scope=col>end_station_name</th><th scope=col>member_casual</th><th scope=col>number_of_rides</th></tr></thead>\n",
       "<tbody>\n",
       "\t<tr><td><span style=white-space:pre-wrap>Streeter Dr &amp; Grand Ave     </span></td><td>casual                                                                  </td><td>39508                                                                   </td></tr>\n",
       "\t<tr><td><span style=white-space:pre-wrap>Lake Shore Dr &amp; Monroe St   </span></td><td>casual                                                                  </td><td>27169                                                                   </td></tr>\n",
       "\t<tr><td>Millennium Park             </td><td>casual                      </td><td>25738                       </td></tr>\n",
       "\t<tr><td>Theater on the Lake         </td><td>casual                      </td><td>20801                       </td></tr>\n",
       "\t<tr><td><span style=white-space:pre-wrap>Michigan Ave &amp; Oak St       </span></td><td>casual                                                                  </td><td>19048                                                                   </td></tr>\n",
       "\t<tr><td><span style=white-space:pre-wrap>Lake Shore Dr &amp; North Blvd  </span></td><td>casual                                                                  </td><td>17991                                                                   </td></tr>\n",
       "\t<tr><td><span style=white-space:pre-wrap>Indiana Ave &amp; Roosevelt Rd  </span></td><td>casual                                                                  </td><td>15899                                                                   </td></tr>\n",
       "\t<tr><td><span style=white-space:pre-wrap>Michigan Ave &amp; Lake St      </span></td><td>casual                                                                  </td><td>13328                                                                   </td></tr>\n",
       "\t<tr><td>Michigan Ave &amp; Washington St</td><td>casual                          </td><td>12944                           </td></tr>\n",
       "\t<tr><td><span style=white-space:pre-wrap>Clark St &amp; Elm St           </span></td><td>casual                                                                  </td><td>12742                                                                   </td></tr>\n",
       "</tbody>\n",
       "</table>\n"
      ],
      "text/latex": [
       "\\begin{tabular}{r|lll}\n",
       " end\\_station\\_name & member\\_casual & number\\_of\\_rides\\\\\n",
       "\\hline\n",
       "\t Streeter Dr \\& Grand Ave      & casual                         & 39508                         \\\\\n",
       "\t Lake Shore Dr \\& Monroe St    & casual                         & 27169                         \\\\\n",
       "\t Millennium Park              & casual                       & 25738                       \\\\\n",
       "\t Theater on the Lake          & casual                       & 20801                       \\\\\n",
       "\t Michigan Ave \\& Oak St        & casual                         & 19048                         \\\\\n",
       "\t Lake Shore Dr \\& North Blvd   & casual                         & 17991                         \\\\\n",
       "\t Indiana Ave \\& Roosevelt Rd   & casual                         & 15899                         \\\\\n",
       "\t Michigan Ave \\& Lake St       & casual                         & 13328                         \\\\\n",
       "\t Michigan Ave \\& Washington St & casual                         & 12944                         \\\\\n",
       "\t Clark St \\& Elm St            & casual                         & 12742                         \\\\\n",
       "\\end{tabular}\n"
      ],
      "text/markdown": [
       "\n",
       "| end_station_name | member_casual | number_of_rides |\n",
       "|---|---|---|\n",
       "| Streeter Dr & Grand Ave      | casual                       | 39508                        |\n",
       "| Lake Shore Dr & Monroe St    | casual                       | 27169                        |\n",
       "| Millennium Park              | casual                       | 25738                        |\n",
       "| Theater on the Lake          | casual                       | 20801                        |\n",
       "| Michigan Ave & Oak St        | casual                       | 19048                        |\n",
       "| Lake Shore Dr & North Blvd   | casual                       | 17991                        |\n",
       "| Indiana Ave & Roosevelt Rd   | casual                       | 15899                        |\n",
       "| Michigan Ave & Lake St       | casual                       | 13328                        |\n",
       "| Michigan Ave & Washington St | casual                       | 12944                        |\n",
       "| Clark St & Elm St            | casual                       | 12742                        |\n",
       "\n"
      ],
      "text/plain": [
       "   end_station_name             member_casual number_of_rides\n",
       "1  Streeter Dr & Grand Ave      casual        39508          \n",
       "2  Lake Shore Dr & Monroe St    casual        27169          \n",
       "3  Millennium Park              casual        25738          \n",
       "4  Theater on the Lake          casual        20801          \n",
       "5  Michigan Ave & Oak St        casual        19048          \n",
       "6  Lake Shore Dr & North Blvd   casual        17991          \n",
       "7  Indiana Ave & Roosevelt Rd   casual        15899          \n",
       "8  Michigan Ave & Lake St       casual        13328          \n",
       "9  Michigan Ave & Washington St casual        12944          \n",
       "10 Clark St & Elm St            casual        12742          "
      ]
     },
     "metadata": {},
     "output_type": "display_data"
    }
   ],
   "source": [
    "top_end_station_casual <- head(by_membership_and_end_station[member_casual == 'casual'][order(-number_of_rides)], 10)\n",
    "top_end_station_casual"
   ]
  },
  {
   "cell_type": "code",
   "execution_count": 31,
   "id": "fde830f8",
   "metadata": {},
   "outputs": [
    {
     "data": {
      "text/html": [
       "<table>\n",
       "<thead><tr><th scope=col>end_station_name</th><th scope=col>member_casual</th><th scope=col>number_of_rides</th></tr></thead>\n",
       "<tbody>\n",
       "\t<tr><td><span style=white-space:pre-wrap>Clark St &amp; Elm St         </span></td><td>member                                                                </td><td>23039                                                                 </td></tr>\n",
       "\t<tr><td><span style=white-space:pre-wrap>Wells St &amp; Concord Ln     </span></td><td>member                                                                </td><td>18038                                                                 </td></tr>\n",
       "\t<tr><td><span style=white-space:pre-wrap>St. Clair St &amp; Erie St    </span></td><td>member                                                                </td><td>17852                                                                 </td></tr>\n",
       "\t<tr><td><span style=white-space:pre-wrap>Dearborn St &amp; Erie St     </span></td><td>member                                                                </td><td>17800                                                                 </td></tr>\n",
       "\t<tr><td><span style=white-space:pre-wrap>Broadway &amp; Barry Ave      </span></td><td>member                                                                </td><td>17488                                                                 </td></tr>\n",
       "\t<tr><td><span style=white-space:pre-wrap>Kingsbury St &amp; Kinzie St  </span></td><td>member                                                                </td><td>17188                                                                 </td></tr>\n",
       "\t<tr><td>Theater on the Lake       </td><td>member                    </td><td>16862                     </td></tr>\n",
       "\t<tr><td><span style=white-space:pre-wrap>Wells St &amp; Elm St         </span></td><td>member                                                                </td><td>15861                                                                 </td></tr>\n",
       "\t<tr><td><span style=white-space:pre-wrap>Wells St &amp; Huron St       </span></td><td>member                                                                </td><td>15133                                                                 </td></tr>\n",
       "\t<tr><td>Lake Shore Dr &amp; North Blvd</td><td>member                        </td><td>15014                         </td></tr>\n",
       "</tbody>\n",
       "</table>\n"
      ],
      "text/latex": [
       "\\begin{tabular}{r|lll}\n",
       " end\\_station\\_name & member\\_casual & number\\_of\\_rides\\\\\n",
       "\\hline\n",
       "\t Clark St \\& Elm St          & member                       & 23039                       \\\\\n",
       "\t Wells St \\& Concord Ln      & member                       & 18038                       \\\\\n",
       "\t St. Clair St \\& Erie St     & member                       & 17852                       \\\\\n",
       "\t Dearborn St \\& Erie St      & member                       & 17800                       \\\\\n",
       "\t Broadway \\& Barry Ave       & member                       & 17488                       \\\\\n",
       "\t Kingsbury St \\& Kinzie St   & member                       & 17188                       \\\\\n",
       "\t Theater on the Lake        & member                     & 16862                     \\\\\n",
       "\t Wells St \\& Elm St          & member                       & 15861                       \\\\\n",
       "\t Wells St \\& Huron St        & member                       & 15133                       \\\\\n",
       "\t Lake Shore Dr \\& North Blvd & member                       & 15014                       \\\\\n",
       "\\end{tabular}\n"
      ],
      "text/markdown": [
       "\n",
       "| end_station_name | member_casual | number_of_rides |\n",
       "|---|---|---|\n",
       "| Clark St & Elm St          | member                     | 23039                      |\n",
       "| Wells St & Concord Ln      | member                     | 18038                      |\n",
       "| St. Clair St & Erie St     | member                     | 17852                      |\n",
       "| Dearborn St & Erie St      | member                     | 17800                      |\n",
       "| Broadway & Barry Ave       | member                     | 17488                      |\n",
       "| Kingsbury St & Kinzie St   | member                     | 17188                      |\n",
       "| Theater on the Lake        | member                     | 16862                      |\n",
       "| Wells St & Elm St          | member                     | 15861                      |\n",
       "| Wells St & Huron St        | member                     | 15133                      |\n",
       "| Lake Shore Dr & North Blvd | member                     | 15014                      |\n",
       "\n"
      ],
      "text/plain": [
       "   end_station_name           member_casual number_of_rides\n",
       "1  Clark St & Elm St          member        23039          \n",
       "2  Wells St & Concord Ln      member        18038          \n",
       "3  St. Clair St & Erie St     member        17852          \n",
       "4  Dearborn St & Erie St      member        17800          \n",
       "5  Broadway & Barry Ave       member        17488          \n",
       "6  Kingsbury St & Kinzie St   member        17188          \n",
       "7  Theater on the Lake        member        16862          \n",
       "8  Wells St & Elm St          member        15861          \n",
       "9  Wells St & Huron St        member        15133          \n",
       "10 Lake Shore Dr & North Blvd member        15014          "
      ]
     },
     "metadata": {},
     "output_type": "display_data"
    }
   ],
   "source": [
    "top_end_station_member <- head(by_membership_and_end_station[member_casual == 'member'][order(-number_of_rides)], 10)\n",
    "top_end_station_member"
   ]
  },
  {
   "cell_type": "code",
   "execution_count": 32,
   "id": "41fe4459",
   "metadata": {},
   "outputs": [
    {
     "data": {
      "image/png": "[encoded data removed]",
      "text/plain": [
       "plot without title"
      ]
     },
     "metadata": {},
     "output_type": "display_data"
    }
   ],
   "source": [
    "ggplot(data = top_end_station_casual, \n",
    "       aes (x = reorder(end_station_name, -number_of_rides),\n",
    "            y = number_of_rides, fill = member_casual)) +\n",
    "    geom_col() + \n",
    "    labs(title=\"Most popular end stations for casual riders\", \n",
    "         x = \"\", y = \"Number of rides\") +\n",
    "    scale_fill_discrete(name = \"Type of membership\", \n",
    "                        labels = c(\"Casual riders\", \"Annual members\")) +\n",
    "    theme_economist() + \n",
    "    theme(axis.text.x = element_text(angle = 90),\n",
    "         axis.line=element_blank(),\n",
    "         axis.ticks.x = element_blank())"
   ]
  },
  {
   "cell_type": "markdown",
   "id": "738460bc",
   "metadata": {},
   "source": [
    "#### Key findings\n",
    "\n",
    "**Overview of the last 12 months**\n",
    "- Total number of trips: **4063225 trips**\n",
    "- Average ride duration: **26.95 minutes** (1617 seconds)\n",
    "- 57.91% of rides were by annual members, while 42.09% were by casual riders\n",
    "- **Docked bikes** were the most popular (accounting for 57.38% of all rides), followed by electric bikes (21.86%) and classic bikes (20.76%)\n",
    "\n",
    "**Detailed breakdown**\n",
    "- On average, casual riders' trips were **2.75 times** longer than annual members' (42.68 minutes vs 15.5 minutes). This trend (casual riders taking much longer trips) was consistent across all analysis.\n",
    "\n",
    "\n",
    "- The average number of rides by casual riders on weekends (363188) were **1.84 times** as high as the number on weekdays (196762). <br> Meanwhile, there wasn't any signifcant distinction in the same metric for annual members (334199 on weekends, 336929 on weekdays).\n",
    "\n",
    "\n",
    "- Regarding time of day, both members and casual riders were **most active from 12am to 7pm** (peaking at 5pm) judging by the number of rides at these hours.\n",
    "- Regarding time of year, the *peak season* was **from May to September**.\n",
    "\n",
    "\n",
    "- There was **signifcant differences** between top start and end stations of casual riders and members.\n",
    "    - Top stations (both start and end) for casual riders include:\n",
    "        1. Streeter Dr & Grand Ave  \n",
    "        2. Lake Shore Dr & Monroe St\n",
    "        3. Millennium Park\t\n",
    "        4. Theater on the Lake\t\n",
    "        5. Michigan Ave & Oak St\n",
    "    \n",
    "    - While top stations for annual members are:\n",
    "        1. Clark St & Elm St\n",
    "        2. Wells St & Concord Ln"
   ]
  },
  {
   "cell_type": "markdown",
   "id": "fca34441",
   "metadata": {},
   "source": [
    "## Step 5: Share\n",
    "\n",
    "*Note*: At the time of writing (Jul - Aug 2021), I plan to use Tableau for better visualizations but cannot follow through yet because I'm in the middle of my finals exams. Maybe I will return to this project once I have the time. For now, these rough ggplot2 graphs will have to do."
   ]
  },
  {
   "cell_type": "code",
   "execution_count": 33,
   "id": "3511625d",
   "metadata": {},
   "outputs": [],
   "source": [
    "# save csv files for later visualizations in Tableau\n",
    "write_csv(overall, \"viz_data/overall.csv\")\n",
    "write_csv(by_membership, \"viz_data/by_membership.csv\")\n",
    "write_csv(by_bike_type, \"viz_data/by_bike_type.csv\")\n",
    "write_csv(by_membership_and_bike_type, \"viz_data/by_membership_and_bike_type.csv\")\n",
    "write_csv(by_membership_and_bike_type, \"viz_data/by_membership_and_month.csv\")\n",
    "write_csv(by_membership_and_bike_type, \"viz_data/by_membership_and_dayofweek.csv\")\n",
    "write_csv(by_membership_and_bike_type, \"viz_data/by_membership_and_hour.csv\")"
   ]
  },
  {
   "cell_type": "markdown",
   "id": "46ab1fc5",
   "metadata": {},
   "source": [
    "## Step 6: Act\n",
    "\n",
    "#### Top 3 Recommendations: \n",
    "Based on my analysis, here are 3 main suggestions for converting casual riders into annual members: \n",
    "\n",
    "\n",
    "1. **Create a \"weekend\" membership plan**: Since the number of casual rides is spectacularly high at the weekend, a plan tailored to that demand (with a lower price than the standard plan) would incentivize casual riders to sign up for a membership.\n",
    "\n",
    "2. **Introduce point reward system based on ride length**: Riders can accumulate points based on their past ride duration, and convert those points to get a discount when buying/ renewing their membership. For example, each 100 minutes ridden can be counted as 1 point / 1 dollar, so a customers who has ridden 300 minutes can get a 3 dollars discount (this number is only illustrative).\n",
    "\n",
    "3. **Run marketing campaigns targeted at top stations for casual riders**: Since the top stations for casual riders are very different from those of members, campaigns at these areas are very likely to reach casual riders. The marketing team could design custom ads, or offer specialized benefits for riders who frequent these top stations."
   ]
  },
  {
   "cell_type": "markdown",
   "id": "245f1203",
   "metadata": {},
   "source": [
    "# CONCLUSION\n",
    "\n",
    "My work in this project has been complete. By analyzing the number of rides and ride time and breaking them down by different categories, I was able to find some very useful insights. I have also given 3 suggestions to the marketing team based on my findings.\n",
    "\n",
    "**Suggestion for further work**: In this project, I could only analyze data on a trip level. If I could access customer data, my analysis could be more insightful (ie: How does *each customer* uses *Cyclistic's* services?). Moreover, additional information such as *Cyclistic's* membership pricing and more details on customer's behavior could also help producing more valuable recommendations."
   ]
  },
  {
   "cell_type": "markdown",
   "id": "f24925c4",
   "metadata": {},
   "source": [
    "###### Measuring notebook runtime"
   ]
  },
  {
   "cell_type": "code",
   "execution_count": 34,
   "id": "1a424254",
   "metadata": {},
   "outputs": [
    {
     "data": {
      "text/plain": [
       "Time difference of 48.59898 secs"
      ]
     },
     "metadata": {},
     "output_type": "display_data"
    }
   ],
   "source": [
    "end_time <- Sys.time()\n",
    "elapsed_time <- end_time - start_time\n",
    "elapsed_time"
   ]
  },
  {
   "cell_type": "markdown",
   "id": "c60a60eb",
   "metadata": {},
   "source": [
    "# Thanks for reading!\n",
    "---"
   ]
  }
 ],
 "metadata": {
  "kernelspec": {
   "display_name": "R",
   "language": "R",
   "name": "ir"
  },
  "language_info": {
   "codemirror_mode": "r",
   "file_extension": ".r",
   "mimetype": "text/x-r-source",
   "name": "R",
   "pygments_lexer": "r",
   "version": "3.6.1"
  },
  "toc": {
   "base_numbering": 1,
   "nav_menu": {},
   "number_sections": false,
   "sideBar": true,
   "skip_h1_title": true,
   "title_cell": "Table of Contents",
   "title_sidebar": "Contents",
   "toc_cell": true,
   "toc_position": {
    "height": "calc(100% - 180px)",
    "left": "10px",
    "top": "150px",
    "width": "165px"
   },
   "toc_section_display": true,
   "toc_window_display": false
  }
 },
 "nbformat": 4,
 "nbformat_minor": 5
}
